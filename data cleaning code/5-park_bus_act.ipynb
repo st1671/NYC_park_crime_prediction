{
 "cells": [
  {
   "cell_type": "code",
   "execution_count": 3,
   "metadata": {
    "collapsed": true
   },
   "outputs": [],
   "source": [
    "import pandas as pd\n",
    "import numpy as np\n",
    "import geopandas as gpd"
   ]
  },
  {
   "cell_type": "code",
   "execution_count": null,
   "metadata": {
    "collapsed": true
   },
   "outputs": [],
   "source": []
  },
  {
   "cell_type": "code",
   "execution_count": null,
   "metadata": {
    "collapsed": true
   },
   "outputs": [],
   "source": []
  },
  {
   "cell_type": "code",
   "execution_count": null,
   "metadata": {
    "collapsed": true
   },
   "outputs": [],
   "source": []
  },
  {
   "cell_type": "code",
   "execution_count": null,
   "metadata": {
    "collapsed": true
   },
   "outputs": [],
   "source": []
  },
  {
   "cell_type": "code",
   "execution_count": 29,
   "metadata": {
    "collapsed": false
   },
   "outputs": [
    {
     "name": "stdout",
     "output_type": "stream",
     "text": [
      "POLYGON ((1179091.16469033 712782.883845978 0,1161053.02182265 667456.268434881 0,1214704.9339419 641092.828859039 0,1228580.42845551 682719.312399842 0,1218405.0658122 721108.180554139 0,1179091.16469033 712782.883845978 0))\n"
     ]
    }
   ],
   "source": [
    "from osgeo import ogr\n",
    "\n",
    "# Create ring\n",
    "ring = ogr.Geometry(ogr.wkbLinearRing)\n",
    "ring.AddPoint(1179091.1646903288, 712782.8838459781)\n",
    "ring.AddPoint(1161053.0218226474, 667456.2684348812)\n",
    "ring.AddPoint(1214704.933941905, 641092.8288590391)\n",
    "ring.AddPoint(1228580.428455506, 682719.3123998424)\n",
    "ring.AddPoint(1218405.0658121984, 721108.1805541387)\n",
    "ring.AddPoint(1179091.1646903288, 712782.8838459781)\n",
    "\n",
    "# Create polygon\n",
    "poly = ogr.Geometry(ogr.wkbPolygon)\n",
    "poly.AddGeometry(ring)\n",
    "\n",
    "print poly.ExportToWkt()"
   ]
  },
  {
   "cell_type": "code",
   "execution_count": 77,
   "metadata": {
    "collapsed": false
   },
   "outputs": [
    {
     "name": "stderr",
     "output_type": "stream",
     "text": [
      "/Users/sichen/anaconda/lib/python2.7/site-packages/ipykernel/__main__.py:8: SettingWithCopyWarning: \n",
      "A value is trying to be set on a copy of a slice from a DataFrame\n",
      "\n",
      "See the caveats in the documentation: http://pandas.pydata.org/pandas-docs/stable/indexing.html#indexing-view-versus-copy\n"
     ]
    }
   ],
   "source": [
    "from osgeo import ogr\n",
    "\n",
    "for i in range(215):\n",
    "    ring = ogr.Geometry(ogr.wkbLinearRing)\n",
    "    ring.AddPoint(lat[i],lng[i])\n",
    "    poly = ogr.Geometry(ogr.wkbPolygon)\n",
    "    poly.AddGeometry(ring)\n",
    "    bus['geometry'][i] = poly.ExportToWkt()"
   ]
  },
  {
   "cell_type": "code",
   "execution_count": 4,
   "metadata": {
    "collapsed": true
   },
   "outputs": [],
   "source": [
    "from geopandas import GeoDataFrame\n",
    "shape_path=\"/Users/sichen/Desktop/Machine_learning/project/park.geojson\"\n",
    "park_shape = GeoDataFrame.from_file(shape_path).to_crs(epsg=4326)"
   ]
  },
  {
   "cell_type": "code",
   "execution_count": 45,
   "metadata": {
    "collapsed": false
   },
   "outputs": [
    {
     "data": {
      "text/html": [
       "<div>\n",
       "<table border=\"1\" class=\"dataframe\">\n",
       "  <thead>\n",
       "    <tr style=\"text-align: right;\">\n",
       "      <th></th>\n",
       "      <th>feat_code</th>\n",
       "      <th>geometry</th>\n",
       "      <th>landuse</th>\n",
       "      <th>park_name</th>\n",
       "      <th>parknum</th>\n",
       "      <th>shape_area</th>\n",
       "      <th>shape_leng</th>\n",
       "      <th>source_id</th>\n",
       "      <th>status</th>\n",
       "      <th>sub_code</th>\n",
       "      <th>system</th>\n",
       "    </tr>\n",
       "  </thead>\n",
       "  <tbody>\n",
       "    <tr>\n",
       "      <th>0</th>\n",
       "      <td>4910</td>\n",
       "      <td>(POLYGON ((-73.97922375065221 40.6979987936995...</td>\n",
       "      <td>Community Park</td>\n",
       "      <td>Commodore Barry Park</td>\n",
       "      <td>B021</td>\n",
       "      <td>41539.8013629</td>\n",
       "      <td>829.420106841</td>\n",
       "      <td>21491000001</td>\n",
       "      <td>Updated</td>\n",
       "      <td>491050</td>\n",
       "      <td>None</td>\n",
       "    </tr>\n",
       "    <tr>\n",
       "      <th>1</th>\n",
       "      <td>4980</td>\n",
       "      <td>(POLYGON ((-73.99732028095745 40.6960076407216...</td>\n",
       "      <td>Neighborhood Park</td>\n",
       "      <td>Pierrepont Playground</td>\n",
       "      <td>B222</td>\n",
       "      <td>21960.4949197</td>\n",
       "      <td>607.555193338</td>\n",
       "      <td>21498000002</td>\n",
       "      <td>Unchanged</td>\n",
       "      <td>498000</td>\n",
       "      <td>None</td>\n",
       "    </tr>\n",
       "  </tbody>\n",
       "</table>\n",
       "</div>"
      ],
      "text/plain": [
       "  feat_code                                           geometry  \\\n",
       "0      4910  (POLYGON ((-73.97922375065221 40.6979987936995...   \n",
       "1      4980  (POLYGON ((-73.99732028095745 40.6960076407216...   \n",
       "\n",
       "             landuse              park_name parknum     shape_area  \\\n",
       "0     Community Park   Commodore Barry Park    B021  41539.8013629   \n",
       "1  Neighborhood Park  Pierrepont Playground    B222  21960.4949197   \n",
       "\n",
       "      shape_leng    source_id     status sub_code system  \n",
       "0  829.420106841  21491000001    Updated   491050   None  \n",
       "1  607.555193338  21498000002  Unchanged   498000   None  "
      ]
     },
     "execution_count": 45,
     "metadata": {},
     "output_type": "execute_result"
    }
   ],
   "source": [
    "park_shape.head(2)"
   ]
  },
  {
   "cell_type": "code",
   "execution_count": 87,
   "metadata": {
    "collapsed": false
   },
   "outputs": [],
   "source": [
    "from geopandas import GeoDataFrame\n",
    "from shapely.geometry import Point\n",
    "\n",
    "geometry = [Point(xy) for xy in zip(bus.locations_location_lat, bus.locations_location_lng)]\n",
    "bus = bus.drop(['locations_location_lng', 'locations_location_lng'], axis=1)\n",
    "crs = {'init': 'epsg:4326'}\n",
    "geo_df = GeoDataFrame(bus, crs=crs, geometry = geometry)"
   ]
  },
  {
   "cell_type": "code",
   "execution_count": 88,
   "metadata": {
    "collapsed": false
   },
   "outputs": [
    {
     "data": {
      "text/plain": [
       "{'init': 'epsg:4326', 'no_defs': True}"
      ]
     },
     "execution_count": 88,
     "metadata": {},
     "output_type": "execute_result"
    }
   ],
   "source": [
    "park_shape.crs"
   ]
  },
  {
   "cell_type": "code",
   "execution_count": 89,
   "metadata": {
    "collapsed": false
   },
   "outputs": [
    {
     "data": {
      "text/plain": [
       "shapely.geometry.multipolygon.MultiPolygon"
      ]
     },
     "execution_count": 89,
     "metadata": {},
     "output_type": "execute_result"
    }
   ],
   "source": [
    "type(park_shape['geometry'][0])"
   ]
  },
  {
   "cell_type": "code",
   "execution_count": 90,
   "metadata": {
    "collapsed": false
   },
   "outputs": [
    {
     "data": {
      "text/plain": [
       "shapely.geometry.point.Point"
      ]
     },
     "execution_count": 90,
     "metadata": {},
     "output_type": "execute_result"
    }
   ],
   "source": [
    "type(geo_df['geometry'][0])"
   ]
  },
  {
   "cell_type": "code",
   "execution_count": 96,
   "metadata": {
    "collapsed": false
   },
   "outputs": [
    {
     "data": {
      "text/html": [
       "<div>\n",
       "<table border=\"1\" class=\"dataframe\">\n",
       "  <thead>\n",
       "    <tr style=\"text-align: right;\">\n",
       "      <th></th>\n",
       "      <th>permit_start_date</th>\n",
       "      <th>permit_end_date</th>\n",
       "      <th>permit_number</th>\n",
       "      <th>description</th>\n",
       "      <th>type</th>\n",
       "      <th>emails_email</th>\n",
       "      <th>emails</th>\n",
       "      <th>phones_phone</th>\n",
       "      <th>phones</th>\n",
       "      <th>websites_website</th>\n",
       "      <th>websites</th>\n",
       "      <th>locations_location_lat</th>\n",
       "      <th>locations_location</th>\n",
       "      <th>locations</th>\n",
       "      <th>name</th>\n",
       "      <th>geometry</th>\n",
       "    </tr>\n",
       "  </thead>\n",
       "  <tbody>\n",
       "    <tr>\n",
       "      <th>0</th>\n",
       "      <td>2013-03-24</td>\n",
       "      <td>2018-03-23</td>\n",
       "      <td>M007-CG</td>\n",
       "      <td>NaN</td>\n",
       "      <td>Specialty Cart</td>\n",
       "      <td>NaN</td>\n",
       "      <td>NaN</td>\n",
       "      <td>NaN</td>\n",
       "      <td>NaN</td>\n",
       "      <td>NaN</td>\n",
       "      <td>NaN</td>\n",
       "      <td>40.741503</td>\n",
       "      <td>NaN</td>\n",
       "      <td>NaN</td>\n",
       "      <td>ALEX LINDOWER PARK TRUCKS</td>\n",
       "      <td>POINT (40.741503 -73.988168)</td>\n",
       "    </tr>\n",
       "    <tr>\n",
       "      <th>1</th>\n",
       "      <td>2013-07-01</td>\n",
       "      <td>2017-12-31</td>\n",
       "      <td>B329-MT</td>\n",
       "      <td>NaN</td>\n",
       "      <td>Food Cart</td>\n",
       "      <td>NaN</td>\n",
       "      <td>NaN</td>\n",
       "      <td>NaN</td>\n",
       "      <td>NaN</td>\n",
       "      <td>NaN</td>\n",
       "      <td>NaN</td>\n",
       "      <td>40.611646</td>\n",
       "      <td>NaN</td>\n",
       "      <td>NaN</td>\n",
       "      <td>Alfred Loreto Park Mobile Food Truck</td>\n",
       "      <td>POINT (40.611646 -73.912717)</td>\n",
       "    </tr>\n",
       "    <tr>\n",
       "      <th>2</th>\n",
       "      <td>2013-05-01</td>\n",
       "      <td>2017-12-31</td>\n",
       "      <td>X163-MT</td>\n",
       "      <td>NaN</td>\n",
       "      <td>Mobile Food Truck</td>\n",
       "      <td>NaN</td>\n",
       "      <td>NaN</td>\n",
       "      <td>NaN</td>\n",
       "      <td>NaN</td>\n",
       "      <td>NaN</td>\n",
       "      <td>NaN</td>\n",
       "      <td>40.848450</td>\n",
       "      <td>NaN</td>\n",
       "      <td>NaN</td>\n",
       "      <td>Alley Pond Golf Center</td>\n",
       "      <td>POINT (40.84845 -73.851653)</td>\n",
       "    </tr>\n",
       "    <tr>\n",
       "      <th>3</th>\n",
       "      <td>2010-11-01</td>\n",
       "      <td>2025-10-31</td>\n",
       "      <td>Q1-DR</td>\n",
       "      <td>Alley Pond Golf Center\\r\\n74 Hitting Stations,...</td>\n",
       "      <td>Driving Range</td>\n",
       "      <td>NaN</td>\n",
       "      <td>NaN</td>\n",
       "      <td>(718) 225-9187</td>\n",
       "      <td>NaN</td>\n",
       "      <td>NaN</td>\n",
       "      <td>NaN</td>\n",
       "      <td>40.765294</td>\n",
       "      <td>NaN</td>\n",
       "      <td>NaN</td>\n",
       "      <td>Alley Pond Tennis Center</td>\n",
       "      <td>POINT (40.765294 -73.749188)</td>\n",
       "    </tr>\n",
       "    <tr>\n",
       "      <th>4</th>\n",
       "      <td>2010-11-16</td>\n",
       "      <td>2022-10-10</td>\n",
       "      <td>Q1-A-SB-IT</td>\n",
       "      <td>The Alley Pond Tennis Center, operated by form...</td>\n",
       "      <td>Tennis Facility</td>\n",
       "      <td>info@alleypondtenniscenter.com</td>\n",
       "      <td>NaN</td>\n",
       "      <td>(718) 264-2600</td>\n",
       "      <td>NaN</td>\n",
       "      <td>http://www.alleypondtenniscenter.com/</td>\n",
       "      <td>NaN</td>\n",
       "      <td>40.739339</td>\n",
       "      <td>NaN</td>\n",
       "      <td>NaN</td>\n",
       "      <td>Anibal Aviles Playground Mobile Food Truck</td>\n",
       "      <td>POINT (40.739339 -73.735834)</td>\n",
       "    </tr>\n",
       "  </tbody>\n",
       "</table>\n",
       "</div>"
      ],
      "text/plain": [
       "  permit_start_date permit_end_date permit_number  \\\n",
       "0        2013-03-24      2018-03-23       M007-CG   \n",
       "1        2013-07-01      2017-12-31       B329-MT   \n",
       "2        2013-05-01      2017-12-31       X163-MT   \n",
       "3        2010-11-01      2025-10-31         Q1-DR   \n",
       "4        2010-11-16      2022-10-10    Q1-A-SB-IT   \n",
       "\n",
       "                                         description               type  \\\n",
       "0                                                NaN     Specialty Cart   \n",
       "1                                                NaN          Food Cart   \n",
       "2                                                NaN  Mobile Food Truck   \n",
       "3  Alley Pond Golf Center\\r\\n74 Hitting Stations,...      Driving Range   \n",
       "4  The Alley Pond Tennis Center, operated by form...    Tennis Facility   \n",
       "\n",
       "                     emails_email  emails    phones_phone  phones  \\\n",
       "0                             NaN     NaN             NaN     NaN   \n",
       "1                             NaN     NaN             NaN     NaN   \n",
       "2                             NaN     NaN             NaN     NaN   \n",
       "3                             NaN     NaN  (718) 225-9187     NaN   \n",
       "4  info@alleypondtenniscenter.com     NaN  (718) 264-2600     NaN   \n",
       "\n",
       "                        websites_website  websites  locations_location_lat  \\\n",
       "0                                    NaN       NaN               40.741503   \n",
       "1                                    NaN       NaN               40.611646   \n",
       "2                                    NaN       NaN               40.848450   \n",
       "3                                    NaN       NaN               40.765294   \n",
       "4  http://www.alleypondtenniscenter.com/       NaN               40.739339   \n",
       "\n",
       "  locations_location  locations                                        name  \\\n",
       "0                NaN        NaN                   ALEX LINDOWER PARK TRUCKS   \n",
       "1                NaN        NaN        Alfred Loreto Park Mobile Food Truck   \n",
       "2                NaN        NaN                      Alley Pond Golf Center   \n",
       "3                NaN        NaN                    Alley Pond Tennis Center   \n",
       "4                NaN        NaN  Anibal Aviles Playground Mobile Food Truck   \n",
       "\n",
       "                       geometry  \n",
       "0  POINT (40.741503 -73.988168)  \n",
       "1  POINT (40.611646 -73.912717)  \n",
       "2   POINT (40.84845 -73.851653)  \n",
       "3  POINT (40.765294 -73.749188)  \n",
       "4  POINT (40.739339 -73.735834)  "
      ]
     },
     "execution_count": 96,
     "metadata": {},
     "output_type": "execute_result"
    }
   ],
   "source": [
    "geo_df.head()"
   ]
  },
  {
   "cell_type": "code",
   "execution_count": 97,
   "metadata": {
    "collapsed": false
   },
   "outputs": [
    {
     "data": {
      "text/plain": [
       "12491"
      ]
     },
     "execution_count": 97,
     "metadata": {},
     "output_type": "execute_result"
    }
   ],
   "source": [
    "len(park_shape)"
   ]
  },
  {
   "cell_type": "code",
   "execution_count": 105,
   "metadata": {
    "collapsed": true
   },
   "outputs": [],
   "source": [
    "park_shape['count'] = np.zeros(len(park_shape))"
   ]
  },
  {
   "cell_type": "code",
   "execution_count": 109,
   "metadata": {
    "collapsed": false
   },
   "outputs": [],
   "source": [
    "for i in range(len(park_shape)):\n",
    "    for j in range(len(geo_df)):\n",
    "        if geo_df['geometry'][j].within(park_shape['geometry'][i]):\n",
    "            print park_shape[i]\n",
    "            #park_shape['count'][i] += 1"
   ]
  },
  {
   "cell_type": "code",
   "execution_count": 108,
   "metadata": {
    "collapsed": false
   },
   "outputs": [
    {
     "data": {
      "text/plain": [
       "0.0"
      ]
     },
     "execution_count": 108,
     "metadata": {},
     "output_type": "execute_result"
    }
   ],
   "source": [
    "park_shape['count'].max()"
   ]
  },
  {
   "cell_type": "code",
   "execution_count": 100,
   "metadata": {
    "collapsed": false
   },
   "outputs": [
    {
     "data": {
      "text/plain": [
       "False"
      ]
     },
     "execution_count": 100,
     "metadata": {},
     "output_type": "execute_result"
    }
   ],
   "source": [
    "geo_df['geometry'][0].within(park_shape['geometry'][0])"
   ]
  },
  {
   "cell_type": "code",
   "execution_count": 30,
   "metadata": {
    "collapsed": true
   },
   "outputs": [],
   "source": [
    "df_bs = pd.read_csv('Legally_Operating_Businesses.csv')"
   ]
  },
  {
   "cell_type": "code",
   "execution_count": 31,
   "metadata": {
    "collapsed": false
   },
   "outputs": [
    {
     "data": {
      "text/html": [
       "<div>\n",
       "<table border=\"1\" class=\"dataframe\">\n",
       "  <thead>\n",
       "    <tr style=\"text-align: right;\">\n",
       "      <th></th>\n",
       "      <th>DCA License Number</th>\n",
       "      <th>License Type</th>\n",
       "      <th>License Expiration Date</th>\n",
       "      <th>License Category</th>\n",
       "      <th>Business Name</th>\n",
       "      <th>Business Name 2</th>\n",
       "      <th>Address Building</th>\n",
       "      <th>Address Street Name</th>\n",
       "      <th>Secondary Address Street Name</th>\n",
       "      <th>Address City</th>\n",
       "      <th>Address State</th>\n",
       "      <th>Address ZIP</th>\n",
       "      <th>Contact Phone Number</th>\n",
       "      <th>Address Borough</th>\n",
       "      <th>Detail</th>\n",
       "      <th>Longitude</th>\n",
       "      <th>Latitude</th>\n",
       "    </tr>\n",
       "  </thead>\n",
       "  <tbody>\n",
       "    <tr>\n",
       "      <th>0</th>\n",
       "      <td>1285930-DCA</td>\n",
       "      <td>Business</td>\n",
       "      <td>07/31/2017</td>\n",
       "      <td>Secondhand Dealer - General</td>\n",
       "      <td>ROBERT LLOYD INC.</td>\n",
       "      <td>NaN</td>\n",
       "      <td>1050</td>\n",
       "      <td>2ND AVE</td>\n",
       "      <td>NaN</td>\n",
       "      <td>NEW YORK</td>\n",
       "      <td>NY</td>\n",
       "      <td>10022</td>\n",
       "      <td>5168358394</td>\n",
       "      <td>Manhattan</td>\n",
       "      <td>NaN</td>\n",
       "      <td>-73.966066</td>\n",
       "      <td>40.758227</td>\n",
       "    </tr>\n",
       "    <tr>\n",
       "      <th>1</th>\n",
       "      <td>2001814-467-DCA</td>\n",
       "      <td>Business</td>\n",
       "      <td>12/31/2018</td>\n",
       "      <td>Cigarette Retail Dealer</td>\n",
       "      <td>222 MARKET CORP.</td>\n",
       "      <td>GRAMERCY FOOD MARKET.</td>\n",
       "      <td>384</td>\n",
       "      <td>2ND AVE</td>\n",
       "      <td>NaN</td>\n",
       "      <td>NEW YORK</td>\n",
       "      <td>NY</td>\n",
       "      <td>10010</td>\n",
       "      <td>2127772808</td>\n",
       "      <td>Manhattan</td>\n",
       "      <td>NaN</td>\n",
       "      <td>-73.981265</td>\n",
       "      <td>40.737376</td>\n",
       "    </tr>\n",
       "  </tbody>\n",
       "</table>\n",
       "</div>"
      ],
      "text/plain": [
       "  DCA License Number License Type License Expiration Date  \\\n",
       "0        1285930-DCA     Business              07/31/2017   \n",
       "1    2001814-467-DCA     Business              12/31/2018   \n",
       "\n",
       "              License Category      Business Name        Business Name 2  \\\n",
       "0  Secondhand Dealer - General  ROBERT LLOYD INC.                    NaN   \n",
       "1      Cigarette Retail Dealer   222 MARKET CORP.  GRAMERCY FOOD MARKET.   \n",
       "\n",
       "  Address Building Address Street Name Secondary Address Street Name  \\\n",
       "0             1050             2ND AVE                           NaN   \n",
       "1              384             2ND AVE                           NaN   \n",
       "\n",
       "  Address City Address State Address ZIP Contact Phone Number Address Borough  \\\n",
       "0     NEW YORK            NY       10022           5168358394       Manhattan   \n",
       "1     NEW YORK            NY       10010           2127772808       Manhattan   \n",
       "\n",
       "  Detail  Longitude   Latitude  \n",
       "0    NaN -73.966066  40.758227  \n",
       "1    NaN -73.981265  40.737376  "
      ]
     },
     "execution_count": 31,
     "metadata": {},
     "output_type": "execute_result"
    }
   ],
   "source": [
    "df_bs.head(2)"
   ]
  },
  {
   "cell_type": "code",
   "execution_count": 8,
   "metadata": {
    "collapsed": true
   },
   "outputs": [],
   "source": [
    "from geopandas import GeoDataFrame\n",
    "from shapely.geometry import Point\n"
   ]
  },
  {
   "cell_type": "code",
   "execution_count": 32,
   "metadata": {
    "collapsed": false
   },
   "outputs": [],
   "source": [
    "geometry = [Point(xy) for xy in zip(df_bs.Longitude, df_bs.Latitude)]\n",
    "#bus = bus.drop(['locations_location_lng', 'locations_location_lng'], axis=1)\n",
    "crs = {'init': 'epsg:4326'}\n",
    "geo_df_bs = GeoDataFrame(df_bs, crs=crs, geometry = geometry)"
   ]
  },
  {
   "cell_type": "code",
   "execution_count": 10,
   "metadata": {
    "collapsed": false
   },
   "outputs": [
    {
     "data": {
      "text/html": [
       "<div>\n",
       "<table border=\"1\" class=\"dataframe\">\n",
       "  <thead>\n",
       "    <tr style=\"text-align: right;\">\n",
       "      <th></th>\n",
       "      <th>feat_code</th>\n",
       "      <th>geometry</th>\n",
       "      <th>landuse</th>\n",
       "      <th>park_name</th>\n",
       "      <th>parknum</th>\n",
       "      <th>shape_area</th>\n",
       "      <th>shape_leng</th>\n",
       "      <th>source_id</th>\n",
       "      <th>status</th>\n",
       "      <th>sub_code</th>\n",
       "      <th>system</th>\n",
       "    </tr>\n",
       "  </thead>\n",
       "  <tbody>\n",
       "    <tr>\n",
       "      <th>0</th>\n",
       "      <td>4910</td>\n",
       "      <td>(POLYGON ((-73.97922375065221 40.6979987936995...</td>\n",
       "      <td>Community Park</td>\n",
       "      <td>Commodore Barry Park</td>\n",
       "      <td>B021</td>\n",
       "      <td>41539.8013629</td>\n",
       "      <td>829.420106841</td>\n",
       "      <td>21491000001</td>\n",
       "      <td>Updated</td>\n",
       "      <td>491050</td>\n",
       "      <td>None</td>\n",
       "    </tr>\n",
       "    <tr>\n",
       "      <th>1</th>\n",
       "      <td>4980</td>\n",
       "      <td>(POLYGON ((-73.99732028095745 40.6960076407216...</td>\n",
       "      <td>Neighborhood Park</td>\n",
       "      <td>Pierrepont Playground</td>\n",
       "      <td>B222</td>\n",
       "      <td>21960.4949197</td>\n",
       "      <td>607.555193338</td>\n",
       "      <td>21498000002</td>\n",
       "      <td>Unchanged</td>\n",
       "      <td>498000</td>\n",
       "      <td>None</td>\n",
       "    </tr>\n",
       "  </tbody>\n",
       "</table>\n",
       "</div>"
      ],
      "text/plain": [
       "  feat_code                                           geometry  \\\n",
       "0      4910  (POLYGON ((-73.97922375065221 40.6979987936995...   \n",
       "1      4980  (POLYGON ((-73.99732028095745 40.6960076407216...   \n",
       "\n",
       "             landuse              park_name parknum     shape_area  \\\n",
       "0     Community Park   Commodore Barry Park    B021  41539.8013629   \n",
       "1  Neighborhood Park  Pierrepont Playground    B222  21960.4949197   \n",
       "\n",
       "      shape_leng    source_id     status sub_code system  \n",
       "0  829.420106841  21491000001    Updated   491050   None  \n",
       "1  607.555193338  21498000002  Unchanged   498000   None  "
      ]
     },
     "execution_count": 10,
     "metadata": {},
     "output_type": "execute_result"
    }
   ],
   "source": [
    "park_shape.head(2)"
   ]
  },
  {
   "cell_type": "code",
   "execution_count": 33,
   "metadata": {
    "collapsed": false
   },
   "outputs": [],
   "source": [
    "geo_df_bs = geo_df_bs.dropna()"
   ]
  },
  {
   "cell_type": "code",
   "execution_count": 34,
   "metadata": {
    "collapsed": false
   },
   "outputs": [],
   "source": [
    "buffer = [point.buffer(0.03) for point in geo_df_bs['geometry']]"
   ]
  },
  {
   "cell_type": "code",
   "execution_count": 36,
   "metadata": {
    "collapsed": true
   },
   "outputs": [],
   "source": [
    "geo_df_bs['geometry'] = buffer"
   ]
  },
  {
   "cell_type": "code",
   "execution_count": 37,
   "metadata": {
    "collapsed": false
   },
   "outputs": [],
   "source": [
    "geo_df_bs = geo_df_bs.to_crs(epsg=4326)"
   ]
  },
  {
   "cell_type": "code",
   "execution_count": 38,
   "metadata": {
    "collapsed": false
   },
   "outputs": [],
   "source": [
    "park_bs = gpd.sjoin(park_shape,geo_df_bs[['DCA License Number',\"geometry\"]])"
   ]
  },
  {
   "cell_type": "code",
   "execution_count": 39,
   "metadata": {
    "collapsed": false
   },
   "outputs": [
    {
     "data": {
      "text/plain": [
       "330"
      ]
     },
     "execution_count": 39,
     "metadata": {},
     "output_type": "execute_result"
    }
   ],
   "source": [
    "len(park_bs.groupby('park_name').count()['DCA License Number'])"
   ]
  },
  {
   "cell_type": "code",
   "execution_count": 41,
   "metadata": {
    "collapsed": false
   },
   "outputs": [
    {
     "data": {
      "text/html": [
       "<div>\n",
       "<table border=\"1\" class=\"dataframe\">\n",
       "  <thead>\n",
       "    <tr style=\"text-align: right;\">\n",
       "      <th></th>\n",
       "      <th>feat_code</th>\n",
       "      <th>geometry</th>\n",
       "      <th>landuse</th>\n",
       "      <th>park_name</th>\n",
       "      <th>parknum</th>\n",
       "      <th>shape_area</th>\n",
       "      <th>shape_leng</th>\n",
       "      <th>source_id</th>\n",
       "      <th>status</th>\n",
       "      <th>sub_code</th>\n",
       "      <th>system</th>\n",
       "      <th>index_right</th>\n",
       "      <th>DCA License Number</th>\n",
       "    </tr>\n",
       "  </thead>\n",
       "  <tbody>\n",
       "    <tr>\n",
       "      <th>0</th>\n",
       "      <td>4910</td>\n",
       "      <td>(POLYGON ((-73.97922375065221 40.6979987936995...</td>\n",
       "      <td>Community Park</td>\n",
       "      <td>Commodore Barry Park</td>\n",
       "      <td>B021</td>\n",
       "      <td>41539.8013629</td>\n",
       "      <td>829.420106841</td>\n",
       "      <td>21491000001</td>\n",
       "      <td>Updated</td>\n",
       "      <td>491050</td>\n",
       "      <td>None</td>\n",
       "      <td>57894</td>\n",
       "      <td>2035427-DCA</td>\n",
       "    </tr>\n",
       "    <tr>\n",
       "      <th>1</th>\n",
       "      <td>4980</td>\n",
       "      <td>(POLYGON ((-73.99732028095745 40.6960076407216...</td>\n",
       "      <td>Neighborhood Park</td>\n",
       "      <td>Pierrepont Playground</td>\n",
       "      <td>B222</td>\n",
       "      <td>21960.4949197</td>\n",
       "      <td>607.555193338</td>\n",
       "      <td>21498000002</td>\n",
       "      <td>Unchanged</td>\n",
       "      <td>498000</td>\n",
       "      <td>None</td>\n",
       "      <td>57894</td>\n",
       "      <td>2035427-DCA</td>\n",
       "    </tr>\n",
       "  </tbody>\n",
       "</table>\n",
       "</div>"
      ],
      "text/plain": [
       "  feat_code                                           geometry  \\\n",
       "0      4910  (POLYGON ((-73.97922375065221 40.6979987936995...   \n",
       "1      4980  (POLYGON ((-73.99732028095745 40.6960076407216...   \n",
       "\n",
       "             landuse              park_name parknum     shape_area  \\\n",
       "0     Community Park   Commodore Barry Park    B021  41539.8013629   \n",
       "1  Neighborhood Park  Pierrepont Playground    B222  21960.4949197   \n",
       "\n",
       "      shape_leng    source_id     status sub_code system  index_right  \\\n",
       "0  829.420106841  21491000001    Updated   491050   None        57894   \n",
       "1  607.555193338  21498000002  Unchanged   498000   None        57894   \n",
       "\n",
       "  DCA License Number  \n",
       "0        2035427-DCA  \n",
       "1        2035427-DCA  "
      ]
     },
     "execution_count": 41,
     "metadata": {},
     "output_type": "execute_result"
    }
   ],
   "source": [
    "park_bs.head(2)"
   ]
  },
  {
   "cell_type": "code",
   "execution_count": 46,
   "metadata": {
    "collapsed": false
   },
   "outputs": [],
   "source": [
    "park_bs_act = pd.DataFrame(park_bs.groupby('park_name').count()['DCA License Number'])"
   ]
  },
  {
   "cell_type": "code",
   "execution_count": 228,
   "metadata": {
    "collapsed": true
   },
   "outputs": [],
   "source": [
    "park_shape = park_shape.fillna(0)"
   ]
  },
  {
   "cell_type": "code",
   "execution_count": 55,
   "metadata": {
    "collapsed": false
   },
   "outputs": [],
   "source": [
    "park_bs_act = park_bs_act.rename(columns={'DCA License Number' : 'bus_act_count'})"
   ]
  },
  {
   "cell_type": "code",
   "execution_count": 50,
   "metadata": {
    "collapsed": false
   },
   "outputs": [],
   "source": [
    "park_bs_act.reset_index(level=0, inplace=True)"
   ]
  },
  {
   "cell_type": "code",
   "execution_count": 56,
   "metadata": {
    "collapsed": false
   },
   "outputs": [
    {
     "data": {
      "text/html": [
       "<div>\n",
       "<table border=\"1\" class=\"dataframe\">\n",
       "  <thead>\n",
       "    <tr style=\"text-align: right;\">\n",
       "      <th></th>\n",
       "      <th>park_name</th>\n",
       "      <th>bus_act_count</th>\n",
       "    </tr>\n",
       "  </thead>\n",
       "  <tbody>\n",
       "    <tr>\n",
       "      <th>0</th>\n",
       "      <td>101st St. Soccer Field</td>\n",
       "      <td>1</td>\n",
       "    </tr>\n",
       "    <tr>\n",
       "      <th>1</th>\n",
       "      <td>104th St. Softball Field</td>\n",
       "      <td>1</td>\n",
       "    </tr>\n",
       "  </tbody>\n",
       "</table>\n",
       "</div>"
      ],
      "text/plain": [
       "                  park_name  bus_act_count\n",
       "0    101st St. Soccer Field              1\n",
       "1  104th St. Softball Field              1"
      ]
     },
     "execution_count": 56,
     "metadata": {},
     "output_type": "execute_result"
    }
   ],
   "source": [
    "park_bs_act.head(2)"
   ]
  },
  {
   "cell_type": "code",
   "execution_count": 64,
   "metadata": {
    "collapsed": false
   },
   "outputs": [],
   "source": [
    "park_bs = pd.merge(park_shape,park_bs_act,on='park_name',how='inner')"
   ]
  },
  {
   "cell_type": "code",
   "execution_count": 69,
   "metadata": {
    "collapsed": false
   },
   "outputs": [
    {
     "data": {
      "text/html": [
       "<div>\n",
       "<table border=\"1\" class=\"dataframe\">\n",
       "  <thead>\n",
       "    <tr style=\"text-align: right;\">\n",
       "      <th></th>\n",
       "      <th>park_name</th>\n",
       "      <th>bus_act_count</th>\n",
       "    </tr>\n",
       "  </thead>\n",
       "  <tbody>\n",
       "    <tr>\n",
       "      <th>0</th>\n",
       "      <td>Commodore Barry Park</td>\n",
       "      <td>10</td>\n",
       "    </tr>\n",
       "    <tr>\n",
       "      <th>1</th>\n",
       "      <td>Commodore Barry Park</td>\n",
       "      <td>10</td>\n",
       "    </tr>\n",
       "    <tr>\n",
       "      <th>2</th>\n",
       "      <td>Commodore Barry Park</td>\n",
       "      <td>10</td>\n",
       "    </tr>\n",
       "    <tr>\n",
       "      <th>3</th>\n",
       "      <td>Commodore Barry Park</td>\n",
       "      <td>10</td>\n",
       "    </tr>\n",
       "    <tr>\n",
       "      <th>4</th>\n",
       "      <td>Commodore Barry Park</td>\n",
       "      <td>10</td>\n",
       "    </tr>\n",
       "  </tbody>\n",
       "</table>\n",
       "</div>"
      ],
      "text/plain": [
       "              park_name  bus_act_count\n",
       "0  Commodore Barry Park             10\n",
       "1  Commodore Barry Park             10\n",
       "2  Commodore Barry Park             10\n",
       "3  Commodore Barry Park             10\n",
       "4  Commodore Barry Park             10"
      ]
     },
     "execution_count": 69,
     "metadata": {},
     "output_type": "execute_result"
    }
   ],
   "source": [
    "park_bs.head()"
   ]
  },
  {
   "cell_type": "code",
   "execution_count": 68,
   "metadata": {
    "collapsed": false
   },
   "outputs": [],
   "source": [
    "park_bs = park_bs[['park_name','bus_act_count']]"
   ]
  },
  {
   "cell_type": "code",
   "execution_count": 66,
   "metadata": {
    "collapsed": false
   },
   "outputs": [
    {
     "data": {
      "text/plain": [
       "3935"
      ]
     },
     "execution_count": 66,
     "metadata": {},
     "output_type": "execute_result"
    }
   ],
   "source": [
    "len(park_bs)"
   ]
  },
  {
   "cell_type": "code",
   "execution_count": 70,
   "metadata": {
    "collapsed": true
   },
   "outputs": [],
   "source": [
    "park_bs.to_csv('park_business.csv')"
   ]
  },
  {
   "cell_type": "code",
   "execution_count": null,
   "metadata": {
    "collapsed": true
   },
   "outputs": [],
   "source": []
  },
  {
   "cell_type": "code",
   "execution_count": null,
   "metadata": {
    "collapsed": true
   },
   "outputs": [],
   "source": []
  },
  {
   "cell_type": "code",
   "execution_count": null,
   "metadata": {
    "collapsed": true
   },
   "outputs": [],
   "source": []
  },
  {
   "cell_type": "code",
   "execution_count": null,
   "metadata": {
    "collapsed": true
   },
   "outputs": [],
   "source": []
  },
  {
   "cell_type": "code",
   "execution_count": null,
   "metadata": {
    "collapsed": true
   },
   "outputs": [],
   "source": []
  }
 ],
 "metadata": {
  "kernelspec": {
   "display_name": "Python 2",
   "language": "python",
   "name": "python2"
  },
  "language_info": {
   "codemirror_mode": {
    "name": "ipython",
    "version": 2
   },
   "file_extension": ".py",
   "mimetype": "text/x-python",
   "name": "python",
   "nbconvert_exporter": "python",
   "pygments_lexer": "ipython2",
   "version": "2.7.13"
  }
 },
 "nbformat": 4,
 "nbformat_minor": 2
}
