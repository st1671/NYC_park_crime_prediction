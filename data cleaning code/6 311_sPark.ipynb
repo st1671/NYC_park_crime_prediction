{
 "cells": [
  {
   "cell_type": "code",
   "execution_count": 1,
   "metadata": {
    "collapsed": false,
    "deletable": true,
    "editable": true
   },
   "outputs": [],
   "source": [
    "import shutil\n",
    "from csv import reader\n",
    "import numpy as np\n",
    "import glob\n",
    "from datetime import datetime\n",
    "from pyspark.sql import *\n",
    "from pyspark.sql.functions import col\n",
    "import geopandas as gpd\n",
    "from geopandas import GeoDataFrame\n",
    "from shapely.geometry import Point\n",
    "import pandas as pd\n",
    "from geopandas.tools import sjoin"
   ]
  },
  {
   "cell_type": "code",
   "execution_count": 2,
   "metadata": {
    "collapsed": false,
    "deletable": true,
    "editable": true
   },
   "outputs": [],
   "source": [
    "requests = sqlContext.read.format('com.databricks.spark.csv').options(header='true', \n",
    "                                            inferschema='true').load('311_Service_Requests_from_2010_to_Present.csv')\n",
    "first = requests.take(1)"
   ]
  },
  {
   "cell_type": "code",
   "execution_count": 3,
   "metadata": {
    "collapsed": false,
    "deletable": true,
    "editable": true
   },
   "outputs": [
    {
     "name": "stdout",
     "output_type": "stream",
     "text": [
      "[Row(Unique Key=32840317, Created Date=u'03/05/2016 02:25:42 AM', Closed Date=u'03/05/2016 05:32:11 PM', Agency=u'NYPD', Agency Name=u'New York City Police Department', Complaint Type=u'Noise - Residential', Descriptor=u'Loud Talking', Location Type=u'Residential Building/House', Incident Zip=u'11215', Incident Address=u'594 5 AVENUE', Street Name=u'5 AVENUE', Cross Street 1=u'16 STREET', Cross Street 2=u'PROSPECT AVENUE', Intersection Street 1=u'', Intersection Street 2=u'', Address Type=u'ADDRESS', City=u'BROOKLYN', Landmark=u'', Facility Type=u'Precinct', Status=u'Closed', Due Date=u'03/05/2016 10:25:42 AM', Resolution Description=u'The Police Department responded to the complaint and with the information available observed no evidence of the violation at that time.', Resolution Action Updated Date=u'03/05/2016 05:32:11 PM', Community Board=u'07 BROOKLYN', Borough=u'BROOKLYN', X Coordinate (State Plane)=u'986922', Y Coordinate (State Plane)=u'181325', Park Facility Name=u'Unspecified', Park Borough=u'BROOKLYN', School Name=u'Unspecified', School Number=u'Unspecified', School Region=u'Unspecified', School Code=u'Unspecified', School Phone Number=u'Unspecified', School Address=u'Unspecified', School City=u'Unspecified', School State=u'Unspecified', School Zip=u'Unspecified', School Not Found=u'N', School or Citywide Complaint=u'', Vehicle Type=u'', Taxi Company Borough=u'', Taxi Pick Up Location=u'', Bridge Highway Name=u'', Bridge Highway Direction=u'', Road Ramp=u'', Bridge Highway Segment=u'', Garage Lot Name=u'', Ferry Direction=u'', Ferry Terminal Name=u'', Latitude=40.664371559939326, Longitude=-73.99036870733234, Location=u'(40.664371559939326, -73.99036870733234)')] 14848358\n"
     ]
    }
   ],
   "source": [
    "requests.registerTempTable(\"a311\")\n",
    "print first, requests.count()"
   ]
  },
  {
   "cell_type": "code",
   "execution_count": 4,
   "metadata": {
    "collapsed": false,
    "deletable": true,
    "editable": true
   },
   "outputs": [],
   "source": [
    "cleaned = requests.where((col(\"Complaint Type\") == \"Drinking\") |\n",
    "                               (col(\"Complaint Type\") == \"Drug Activity\") |\n",
    "                               (col(\"Complaint Type\") == \"Street Light Condition\"))\n",
    "\n",
    "# cleaned = requests.where((col(\"Complaint Type\") == \"Drinking\") |\n",
    "#                                (col(\"Complaint Type\") == \"Safety\") |\n",
    "#                                (col(\"Complaint Type\") == \"Drug Activity\") |\n",
    "#                                (col(\"Complaint Type\") == \"Noise - Park\") |\n",
    "#                                (col(\"Complaint Type\") == \"Street Light Condition\"))"
   ]
  },
  {
   "cell_type": "code",
   "execution_count": 5,
   "metadata": {
    "collapsed": false,
    "deletable": true,
    "editable": true
   },
   "outputs": [
    {
     "data": {
      "text/plain": [
       "714530"
      ]
     },
     "execution_count": 5,
     "metadata": {},
     "output_type": "execute_result"
    }
   ],
   "source": [
    "cleaned.count()"
   ]
  },
  {
   "cell_type": "code",
   "execution_count": 6,
   "metadata": {
    "collapsed": false,
    "deletable": true,
    "editable": true
   },
   "outputs": [],
   "source": [
    "ind = [1, 5, 6, -3, -2]\n",
    "selected = map(lambda x: requests.columns[x], ind)\n",
    "cleaned_f = cleaned.select(selected)"
   ]
  },
  {
   "cell_type": "code",
   "execution_count": 7,
   "metadata": {
    "collapsed": false,
    "deletable": true,
    "editable": true
   },
   "outputs": [
    {
     "data": {
      "text/plain": [
       "[Row(Created Date=u'03/05/2016 06:13:00 PM', Complaint Type=u'Street Light Condition', Descriptor=u'Street Light Out', Latitude=40.71379279827319, Longitude=-73.79187167662333)]"
      ]
     },
     "execution_count": 7,
     "metadata": {},
     "output_type": "execute_result"
    }
   ],
   "source": [
    "first= cleaned_f.take(1)\n",
    "first"
   ]
  },
  {
   "cell_type": "code",
   "execution_count": 8,
   "metadata": {
    "collapsed": true,
    "deletable": true,
    "editable": true
   },
   "outputs": [],
   "source": [
    "cleaned_f.write.csv('output0')"
   ]
  },
  {
   "cell_type": "code",
   "execution_count": 9,
   "metadata": {
    "collapsed": false,
    "deletable": true,
    "editable": true
   },
   "outputs": [],
   "source": [
    "# Merging\n",
    "with open('step0.csv', 'wb') as outpt:\n",
    "    for name in glob.glob('output0/p*'):\n",
    "        with open(name, 'rb') as inpt:\n",
    "            shutil.copyfileobj(inpt, outpt)"
   ]
  },
  {
   "cell_type": "code",
   "execution_count": 10,
   "metadata": {
    "collapsed": true,
    "deletable": true,
    "editable": true
   },
   "outputs": [],
   "source": [
    "with open('step0.csv', 'rb') as inpt:\n",
    "    step0 = map(lambda row: row, reader(inpt))"
   ]
  },
  {
   "cell_type": "code",
   "execution_count": 11,
   "metadata": {
    "collapsed": false,
    "deletable": true,
    "editable": true
   },
   "outputs": [
    {
     "name": "stdout",
     "output_type": "stream",
     "text": [
      "['08/10/2016 01:21:00 PM', 'Street Light Condition', 'Street Light Out', '', ''] \n",
      "714530\n"
     ]
    }
   ],
   "source": [
    "print step0[0], \"\\n\", len(step0)"
   ]
  },
  {
   "cell_type": "code",
   "execution_count": 12,
   "metadata": {
    "collapsed": false,
    "deletable": true,
    "editable": true
   },
   "outputs": [
    {
     "name": "stdout",
     "output_type": "stream",
     "text": [
      "2014-07-01 00:00:00 2016-10-01 00:00:00\n"
     ]
    }
   ],
   "source": [
    "starttime = datetime.strptime('07/01/2014 12:00:00 AM', '%m/%d/%Y %I:%M:%S %p')\n",
    "endtime = datetime.strptime('10/01/2016 12:00:00 AM', '%m/%d/%Y %I:%M:%S %p')\n",
    "print starttime, endtime"
   ]
  },
  {
   "cell_type": "code",
   "execution_count": 13,
   "metadata": {
    "collapsed": false,
    "deletable": true,
    "editable": true
   },
   "outputs": [],
   "source": [
    "step0 = map(lambda row: [datetime.strptime(row[0], '%m/%d/%Y %I:%M:%S %p')]+row[1:], step0)"
   ]
  },
  {
   "cell_type": "code",
   "execution_count": 14,
   "metadata": {
    "collapsed": false,
    "deletable": true,
    "editable": true
   },
   "outputs": [
    {
     "name": "stdout",
     "output_type": "stream",
     "text": [
      "[datetime.datetime(2016, 8, 10, 13, 21), 'Street Light Condition', 'Street Light Out', '', ''] \n",
      "714530\n"
     ]
    }
   ],
   "source": [
    "print step0[0], \"\\n\", len(step0)"
   ]
  },
  {
   "cell_type": "code",
   "execution_count": 15,
   "metadata": {
    "collapsed": false,
    "deletable": true,
    "editable": true
   },
   "outputs": [],
   "source": [
    "filtered = sorted(filter(lambda row: row[0]<=endtime and row[0]>=starttime, step0), key = lambda x: x[0])"
   ]
  },
  {
   "cell_type": "code",
   "execution_count": 16,
   "metadata": {
    "collapsed": false,
    "deletable": true,
    "editable": true
   },
   "outputs": [
    {
     "name": "stdout",
     "output_type": "stream",
     "text": [
      "[datetime.datetime(2014, 7, 1, 0, 52), 'Street Light Condition', 'Lamppost Base Door/Cover Missing', '', ''] \n",
      "[datetime.datetime(2016, 9, 30, 23, 50), 'Street Light Condition', 'Lamppost Base Door/Cover Damaged', '40.69044677627941', '-73.83290446301469'] \n",
      "218239\n"
     ]
    }
   ],
   "source": [
    "print filtered[0], \"\\n\", filtered[-1], \"\\n\", len(filtered)"
   ]
  },
  {
   "cell_type": "code",
   "execution_count": 17,
   "metadata": {
    "collapsed": false,
    "deletable": true,
    "editable": true
   },
   "outputs": [],
   "source": [
    "filtered = filter(lambda x: x[-1]<>'' and x[-2]<>'', filtered)"
   ]
  },
  {
   "cell_type": "code",
   "execution_count": 18,
   "metadata": {
    "collapsed": false,
    "deletable": true,
    "editable": true
   },
   "outputs": [
    {
     "data": {
      "text/plain": [
       "131779"
      ]
     },
     "execution_count": 18,
     "metadata": {},
     "output_type": "execute_result"
    }
   ],
   "source": [
    "len(filtered)"
   ]
  },
  {
   "cell_type": "code",
   "execution_count": 19,
   "metadata": {
    "collapsed": false,
    "deletable": true,
    "editable": true
   },
   "outputs": [],
   "source": [
    "prks = gpd.GeoDataFrame.from_file('park.shp')"
   ]
  },
  {
   "cell_type": "code",
   "execution_count": 20,
   "metadata": {
    "collapsed": false,
    "deletable": true,
    "editable": true
   },
   "outputs": [
    {
     "data": {
      "image/svg+xml": [
       "<svg xmlns=\"http://www.w3.org/2000/svg\" xmlns:xlink=\"http://www.w3.org/1999/xlink\" width=\"100.0\" height=\"100.0\" viewBox=\"-73.9801138699 40.6975291004 0.000928648732554 0.000594253101127\" preserveAspectRatio=\"xMinYMin meet\"><g transform=\"matrix(1,0,0,-1,0,81.3956524539)\"><path fill-rule=\"evenodd\" fill=\"#66cc99\" stroke=\"#555555\" stroke-width=\"1.85729746511e-05\" opacity=\"0.6\" d=\"M -73.9792237507,40.6979987937 L -73.9792517052,40.6976162512 L -73.9792636421,40.6976169314 L -73.9793880578,40.6976240165 L -73.9793926566,40.6975634948 L -73.979521728,40.697566675 L -73.9795802106,40.6975681154 L -73.9800794755,40.6975804139 L -73.9800708244,40.6977417374 L -73.9800538065,40.6980590768 L -73.9800522038,40.6980889591 L -73.9794069899,40.6980679356 L -73.9792635032,40.6980632595 L -73.9792205151,40.6980618587 L -73.9792196155,40.6980553811 L -73.9792237507,40.6979987937 z\" /></g></svg>"
      ],
      "text/plain": [
       "<shapely.geometry.polygon.Polygon at 0x7f130f9288d0>"
      ]
     },
     "execution_count": 20,
     "metadata": {},
     "output_type": "execute_result"
    }
   ],
   "source": [
    "prks.iloc[0].geometry"
   ]
  },
  {
   "cell_type": "code",
   "execution_count": 21,
   "metadata": {
    "collapsed": false,
    "deletable": true,
    "editable": true
   },
   "outputs": [],
   "source": [
    "prks = prks[['geometry', 'park_name', 'shape_area']]"
   ]
  },
  {
   "cell_type": "code",
   "execution_count": 22,
   "metadata": {
    "collapsed": false,
    "deletable": true,
    "editable": true
   },
   "outputs": [
    {
     "data": {
      "text/html": [
       "<div>\n",
       "<table border=\"1\" class=\"dataframe\">\n",
       "  <thead>\n",
       "    <tr style=\"text-align: right;\">\n",
       "      <th></th>\n",
       "      <th>geometry</th>\n",
       "      <th>park_name</th>\n",
       "      <th>shape_area</th>\n",
       "    </tr>\n",
       "  </thead>\n",
       "  <tbody>\n",
       "    <tr>\n",
       "      <th>0</th>\n",
       "      <td>POLYGON ((-73.97922375065221 40.69799879369959...</td>\n",
       "      <td>Commodore Barry Park</td>\n",
       "      <td>41539.801363</td>\n",
       "    </tr>\n",
       "    <tr>\n",
       "      <th>1</th>\n",
       "      <td>POLYGON ((-73.99732028095745 40.69600764072165...</td>\n",
       "      <td>Pierrepont Playground</td>\n",
       "      <td>21960.494920</td>\n",
       "    </tr>\n",
       "  </tbody>\n",
       "</table>\n",
       "</div>"
      ],
      "text/plain": [
       "                                            geometry              park_name  \\\n",
       "0  POLYGON ((-73.97922375065221 40.69799879369959...   Commodore Barry Park   \n",
       "1  POLYGON ((-73.99732028095745 40.69600764072165...  Pierrepont Playground   \n",
       "\n",
       "     shape_area  \n",
       "0  41539.801363  \n",
       "1  21960.494920  "
      ]
     },
     "execution_count": 22,
     "metadata": {},
     "output_type": "execute_result"
    }
   ],
   "source": [
    "prks.head(2)"
   ]
  },
  {
   "cell_type": "code",
   "execution_count": 23,
   "metadata": {
    "collapsed": true,
    "deletable": true,
    "editable": true
   },
   "outputs": [],
   "source": [
    "a311df = pd.DataFrame.from_records(filtered, columns=['Created_Time', 'Complaint', 'Details', 'Lat', 'Long'])"
   ]
  },
  {
   "cell_type": "code",
   "execution_count": 24,
   "metadata": {
    "collapsed": false,
    "deletable": true,
    "editable": true
   },
   "outputs": [
    {
     "data": {
      "text/html": [
       "<div>\n",
       "<table border=\"1\" class=\"dataframe\">\n",
       "  <thead>\n",
       "    <tr style=\"text-align: right;\">\n",
       "      <th></th>\n",
       "      <th>Created_Time</th>\n",
       "      <th>Complaint</th>\n",
       "      <th>Details</th>\n",
       "      <th>Lat</th>\n",
       "      <th>Long</th>\n",
       "    </tr>\n",
       "  </thead>\n",
       "  <tbody>\n",
       "    <tr>\n",
       "      <th>0</th>\n",
       "      <td>2014-07-01 01:08:00</td>\n",
       "      <td>Street Light Condition</td>\n",
       "      <td>Lamppost Missing</td>\n",
       "      <td>40.717200165228554</td>\n",
       "      <td>-73.99070377473507</td>\n",
       "    </tr>\n",
       "    <tr>\n",
       "      <th>1</th>\n",
       "      <td>2014-07-01 01:11:00</td>\n",
       "      <td>Street Light Condition</td>\n",
       "      <td>Street Light Out</td>\n",
       "      <td>40.62466637345132</td>\n",
       "      <td>-73.96600432599404</td>\n",
       "    </tr>\n",
       "    <tr>\n",
       "      <th>2</th>\n",
       "      <td>2014-07-01 01:21:00</td>\n",
       "      <td>Street Light Condition</td>\n",
       "      <td>Street Light Out</td>\n",
       "      <td>40.760204814768336</td>\n",
       "      <td>-73.93747256682728</td>\n",
       "    </tr>\n",
       "  </tbody>\n",
       "</table>\n",
       "</div>"
      ],
      "text/plain": [
       "         Created_Time               Complaint           Details  \\\n",
       "0 2014-07-01 01:08:00  Street Light Condition  Lamppost Missing   \n",
       "1 2014-07-01 01:11:00  Street Light Condition  Street Light Out   \n",
       "2 2014-07-01 01:21:00  Street Light Condition  Street Light Out   \n",
       "\n",
       "                  Lat                Long  \n",
       "0  40.717200165228554  -73.99070377473507  \n",
       "1   40.62466637345132  -73.96600432599404  \n",
       "2  40.760204814768336  -73.93747256682728  "
      ]
     },
     "execution_count": 24,
     "metadata": {},
     "output_type": "execute_result"
    }
   ],
   "source": [
    "a311df.head(3)"
   ]
  },
  {
   "cell_type": "code",
   "execution_count": 25,
   "metadata": {
    "collapsed": true,
    "deletable": true,
    "editable": true
   },
   "outputs": [],
   "source": [
    "a311df['Lat'] = a311df['Lat'].apply(lambda x: float(x))\n",
    "a311df['Long'] = a311df['Long'].apply(lambda x: float(x))"
   ]
  },
  {
   "cell_type": "code",
   "execution_count": 26,
   "metadata": {
    "collapsed": false,
    "deletable": true,
    "editable": true
   },
   "outputs": [],
   "source": [
    "geometry = [Point(xy) for xy in zip(a311df['Long'], a311df['Lat'])]"
   ]
  },
  {
   "cell_type": "code",
   "execution_count": 27,
   "metadata": {
    "collapsed": false,
    "deletable": true,
    "editable": true
   },
   "outputs": [
    {
     "data": {
      "image/svg+xml": [
       "<svg xmlns=\"http://www.w3.org/2000/svg\" xmlns:xlink=\"http://www.w3.org/1999/xlink\" width=\"100.0\" height=\"100.0\" viewBox=\"-74.9907037747 39.7172001652 2.0 2.0\" preserveAspectRatio=\"xMinYMin meet\"><g transform=\"matrix(1,0,0,-1,0,81.4344003305)\"><circle cx=\"-73.9907037747\" cy=\"40.7172001652\" r=\"0.06\" stroke=\"#555555\" stroke-width=\"0.02\" fill=\"#66cc99\" opacity=\"0.6\" /></g></svg>"
      ],
      "text/plain": [
       "<shapely.geometry.point.Point at 0x7f130f45ec90>"
      ]
     },
     "execution_count": 27,
     "metadata": {},
     "output_type": "execute_result"
    }
   ],
   "source": [
    "geometry[0]"
   ]
  },
  {
   "cell_type": "code",
   "execution_count": 28,
   "metadata": {
    "collapsed": false,
    "deletable": true,
    "editable": true
   },
   "outputs": [],
   "source": [
    "a311df = a311df[['Created_Time', 'Complaint', 'Details']]"
   ]
  },
  {
   "cell_type": "code",
   "execution_count": 29,
   "metadata": {
    "collapsed": true,
    "deletable": true,
    "editable": true
   },
   "outputs": [],
   "source": [
    "geo311 = GeoDataFrame(a311df, crs = {'init': 'epsg:4326'}, geometry = geometry)\n",
    "geo311['geometry'] = geo311['geometry'].apply(lambda x: gpd.GeoSeries(x).buffer(0.001))"
   ]
  },
  {
   "cell_type": "code",
   "execution_count": 30,
   "metadata": {
    "collapsed": false,
    "deletable": true,
    "editable": true
   },
   "outputs": [
    {
     "data": {
      "text/html": [
       "<div>\n",
       "<table border=\"1\" class=\"dataframe\">\n",
       "  <thead>\n",
       "    <tr style=\"text-align: right;\">\n",
       "      <th></th>\n",
       "      <th>Created_Time</th>\n",
       "      <th>Complaint</th>\n",
       "      <th>Details</th>\n",
       "      <th>geometry</th>\n",
       "    </tr>\n",
       "  </thead>\n",
       "  <tbody>\n",
       "    <tr>\n",
       "      <th>0</th>\n",
       "      <td>2014-07-01 01:08:00</td>\n",
       "      <td>Street Light Condition</td>\n",
       "      <td>Lamppost Missing</td>\n",
       "      <td>POLYGON ((-73.98970377473506 40.71720016522855...</td>\n",
       "    </tr>\n",
       "    <tr>\n",
       "      <th>1</th>\n",
       "      <td>2014-07-01 01:11:00</td>\n",
       "      <td>Street Light Condition</td>\n",
       "      <td>Street Light Out</td>\n",
       "      <td>POLYGON ((-73.96500432599403 40.62466637345132...</td>\n",
       "    </tr>\n",
       "    <tr>\n",
       "      <th>2</th>\n",
       "      <td>2014-07-01 01:21:00</td>\n",
       "      <td>Street Light Condition</td>\n",
       "      <td>Street Light Out</td>\n",
       "      <td>POLYGON ((-73.93647256682728 40.76020481476834...</td>\n",
       "    </tr>\n",
       "  </tbody>\n",
       "</table>\n",
       "</div>"
      ],
      "text/plain": [
       "         Created_Time               Complaint           Details  \\\n",
       "0 2014-07-01 01:08:00  Street Light Condition  Lamppost Missing   \n",
       "1 2014-07-01 01:11:00  Street Light Condition  Street Light Out   \n",
       "2 2014-07-01 01:21:00  Street Light Condition  Street Light Out   \n",
       "\n",
       "                                            geometry  \n",
       "0  POLYGON ((-73.98970377473506 40.71720016522855...  \n",
       "1  POLYGON ((-73.96500432599403 40.62466637345132...  \n",
       "2  POLYGON ((-73.93647256682728 40.76020481476834...  "
      ]
     },
     "execution_count": 30,
     "metadata": {},
     "output_type": "execute_result"
    }
   ],
   "source": [
    "geo311.head(3)"
   ]
  },
  {
   "cell_type": "code",
   "execution_count": 31,
   "metadata": {
    "collapsed": false,
    "deletable": true,
    "editable": true
   },
   "outputs": [
    {
     "data": {
      "text/html": [
       "<div>\n",
       "<table border=\"1\" class=\"dataframe\">\n",
       "  <thead>\n",
       "    <tr style=\"text-align: right;\">\n",
       "      <th></th>\n",
       "      <th>geometry</th>\n",
       "      <th>park_name</th>\n",
       "      <th>shape_area</th>\n",
       "    </tr>\n",
       "  </thead>\n",
       "  <tbody>\n",
       "    <tr>\n",
       "      <th>0</th>\n",
       "      <td>POLYGON ((-73.97922375065221 40.69799879369959...</td>\n",
       "      <td>Commodore Barry Park</td>\n",
       "      <td>4.153980e+04</td>\n",
       "    </tr>\n",
       "    <tr>\n",
       "      <th>1</th>\n",
       "      <td>POLYGON ((-73.99732028095745 40.69600764072165...</td>\n",
       "      <td>Pierrepont Playground</td>\n",
       "      <td>2.196049e+04</td>\n",
       "    </tr>\n",
       "    <tr>\n",
       "      <th>2</th>\n",
       "      <td>POLYGON ((-73.99557419919979 40.68792918280799...</td>\n",
       "      <td>Cobble Hill Park</td>\n",
       "      <td>2.807908e+04</td>\n",
       "    </tr>\n",
       "    <tr>\n",
       "      <th>3</th>\n",
       "      <td>POLYGON ((-73.97746661925957 40.69650941986475...</td>\n",
       "      <td>Commodore Barry Park</td>\n",
       "      <td>4.384161e+05</td>\n",
       "    </tr>\n",
       "    <tr>\n",
       "      <th>4</th>\n",
       "      <td>POLYGON ((-73.99746719287955 40.69692380834881...</td>\n",
       "      <td>Brooklyn Heights Promenade</td>\n",
       "      <td>1.446570e+04</td>\n",
       "    </tr>\n",
       "    <tr>\n",
       "      <th>5</th>\n",
       "      <td>POLYGON ((-73.99830711319798 40.69531715452282...</td>\n",
       "      <td>Brooklyn Heights Promenade</td>\n",
       "      <td>4.635878e+04</td>\n",
       "    </tr>\n",
       "    <tr>\n",
       "      <th>6</th>\n",
       "      <td>POLYGON ((-73.99451494985468 40.70394341746722...</td>\n",
       "      <td>Brooklyn Bridge Park</td>\n",
       "      <td>1.995609e+06</td>\n",
       "    </tr>\n",
       "    <tr>\n",
       "      <th>7</th>\n",
       "      <td>POLYGON ((-73.98008667776499 40.69796760030253...</td>\n",
       "      <td>Commodore Barry Park</td>\n",
       "      <td>1.367777e+03</td>\n",
       "    </tr>\n",
       "    <tr>\n",
       "      <th>8</th>\n",
       "      <td>POLYGON ((-73.98018572731112 40.69809644559253...</td>\n",
       "      <td>Commodore Barry Park</td>\n",
       "      <td>1.489199e+03</td>\n",
       "    </tr>\n",
       "    <tr>\n",
       "      <th>9</th>\n",
       "      <td>POLYGON ((-73.98233515032896 40.69808061965792...</td>\n",
       "      <td>Golconda Playground</td>\n",
       "      <td>1.473095e+03</td>\n",
       "    </tr>\n",
       "  </tbody>\n",
       "</table>\n",
       "</div>"
      ],
      "text/plain": [
       "                                            geometry  \\\n",
       "0  POLYGON ((-73.97922375065221 40.69799879369959...   \n",
       "1  POLYGON ((-73.99732028095745 40.69600764072165...   \n",
       "2  POLYGON ((-73.99557419919979 40.68792918280799...   \n",
       "3  POLYGON ((-73.97746661925957 40.69650941986475...   \n",
       "4  POLYGON ((-73.99746719287955 40.69692380834881...   \n",
       "5  POLYGON ((-73.99830711319798 40.69531715452282...   \n",
       "6  POLYGON ((-73.99451494985468 40.70394341746722...   \n",
       "7  POLYGON ((-73.98008667776499 40.69796760030253...   \n",
       "8  POLYGON ((-73.98018572731112 40.69809644559253...   \n",
       "9  POLYGON ((-73.98233515032896 40.69808061965792...   \n",
       "\n",
       "                    park_name    shape_area  \n",
       "0        Commodore Barry Park  4.153980e+04  \n",
       "1       Pierrepont Playground  2.196049e+04  \n",
       "2            Cobble Hill Park  2.807908e+04  \n",
       "3        Commodore Barry Park  4.384161e+05  \n",
       "4  Brooklyn Heights Promenade  1.446570e+04  \n",
       "5  Brooklyn Heights Promenade  4.635878e+04  \n",
       "6        Brooklyn Bridge Park  1.995609e+06  \n",
       "7        Commodore Barry Park  1.367777e+03  \n",
       "8        Commodore Barry Park  1.489199e+03  \n",
       "9         Golconda Playground  1.473095e+03  "
      ]
     },
     "execution_count": 31,
     "metadata": {},
     "output_type": "execute_result"
    }
   ],
   "source": [
    "prks.head(10)"
   ]
  },
  {
   "cell_type": "code",
   "execution_count": 32,
   "metadata": {
    "collapsed": true,
    "deletable": true,
    "editable": true
   },
   "outputs": [],
   "source": [
    "geo311.to_csv('ComplaintsGeo.csv')"
   ]
  },
  {
   "cell_type": "code",
   "execution_count": 33,
   "metadata": {
    "collapsed": true,
    "deletable": true,
    "editable": true
   },
   "outputs": [],
   "source": [
    "with open('parks.csv', 'rb') as inpt:\n",
    "    park_list = map(lambda row: row, reader(inpt))"
   ]
  },
  {
   "cell_type": "code",
   "execution_count": 34,
   "metadata": {
    "collapsed": false,
    "deletable": true,
    "editable": true
   },
   "outputs": [],
   "source": [
    "parks_merged = prks.dissolve(by='park_name')"
   ]
  },
  {
   "cell_type": "code",
   "execution_count": 35,
   "metadata": {
    "collapsed": false,
    "deletable": true,
    "editable": true
   },
   "outputs": [
    {
     "data": {
      "text/html": [
       "<div>\n",
       "<table border=\"1\" class=\"dataframe\">\n",
       "  <thead>\n",
       "    <tr style=\"text-align: right;\">\n",
       "      <th></th>\n",
       "      <th>park_name</th>\n",
       "      <th>geometry</th>\n",
       "      <th>shape_area</th>\n",
       "    </tr>\n",
       "  </thead>\n",
       "  <tbody>\n",
       "    <tr>\n",
       "      <th>0</th>\n",
       "      <td>\"Uncle\" Vito E. Maranzano Glendale Playground</td>\n",
       "      <td>POLYGON ((-73.88152476475133 40.70529950390424...</td>\n",
       "      <td>6687.637331</td>\n",
       "    </tr>\n",
       "    <tr>\n",
       "      <th>1</th>\n",
       "      <td>100% Playground</td>\n",
       "      <td>POLYGON ((-73.8997241390196 40.6465536310036, ...</td>\n",
       "      <td>3933.762638</td>\n",
       "    </tr>\n",
       "    <tr>\n",
       "      <th>2</th>\n",
       "      <td>101st St. Soccer Field</td>\n",
       "      <td>POLYGON ((-73.97360601490826 40.80064096880579...</td>\n",
       "      <td>1772.610175</td>\n",
       "    </tr>\n",
       "    <tr>\n",
       "      <th>3</th>\n",
       "      <td>104th St. Softball Field</td>\n",
       "      <td>POLYGON ((-73.97334878405498 40.80163070935411...</td>\n",
       "      <td>56118.417075</td>\n",
       "    </tr>\n",
       "    <tr>\n",
       "      <th>4</th>\n",
       "      <td>110th Street Block Association Garden</td>\n",
       "      <td>POLYGON ((-73.94718122076823 40.79614575205431...</td>\n",
       "      <td>2208.126140</td>\n",
       "    </tr>\n",
       "    <tr>\n",
       "      <th>5</th>\n",
       "      <td>117th St Community Garden</td>\n",
       "      <td>POLYGON ((-73.94043480761923 40.79893155754588...</td>\n",
       "      <td>3389.587219</td>\n",
       "    </tr>\n",
       "    <tr>\n",
       "      <th>6</th>\n",
       "      <td>132 St Block Association Park</td>\n",
       "      <td>POLYGON ((-73.94295390158399 40.812369770225, ...</td>\n",
       "      <td>8371.799943</td>\n",
       "    </tr>\n",
       "    <tr>\n",
       "      <th>7</th>\n",
       "      <td>14 Honey Locusts Park</td>\n",
       "      <td>(POLYGON ((-73.96257159898309 40.7599785113595...</td>\n",
       "      <td>12271.213891</td>\n",
       "    </tr>\n",
       "    <tr>\n",
       "      <th>8</th>\n",
       "      <td>157 St Playground</td>\n",
       "      <td>(POLYGON ((-73.78679848010727 40.6844998577174...</td>\n",
       "      <td>121877.602841</td>\n",
       "    </tr>\n",
       "    <tr>\n",
       "      <th>9</th>\n",
       "      <td>16 Linden Trees Triangle</td>\n",
       "      <td>POLYGON ((-73.95257901000322 40.58420663471234...</td>\n",
       "      <td>18548.601206</td>\n",
       "    </tr>\n",
       "  </tbody>\n",
       "</table>\n",
       "</div>"
      ],
      "text/plain": [
       "                                       park_name  \\\n",
       "0  \"Uncle\" Vito E. Maranzano Glendale Playground   \n",
       "1                                100% Playground   \n",
       "2                         101st St. Soccer Field   \n",
       "3                       104th St. Softball Field   \n",
       "4          110th Street Block Association Garden   \n",
       "5                      117th St Community Garden   \n",
       "6                  132 St Block Association Park   \n",
       "7                          14 Honey Locusts Park   \n",
       "8                              157 St Playground   \n",
       "9                       16 Linden Trees Triangle   \n",
       "\n",
       "                                            geometry     shape_area  \n",
       "0  POLYGON ((-73.88152476475133 40.70529950390424...    6687.637331  \n",
       "1  POLYGON ((-73.8997241390196 40.6465536310036, ...    3933.762638  \n",
       "2  POLYGON ((-73.97360601490826 40.80064096880579...    1772.610175  \n",
       "3  POLYGON ((-73.97334878405498 40.80163070935411...   56118.417075  \n",
       "4  POLYGON ((-73.94718122076823 40.79614575205431...    2208.126140  \n",
       "5  POLYGON ((-73.94043480761923 40.79893155754588...    3389.587219  \n",
       "6  POLYGON ((-73.94295390158399 40.812369770225, ...    8371.799943  \n",
       "7  (POLYGON ((-73.96257159898309 40.7599785113595...   12271.213891  \n",
       "8  (POLYGON ((-73.78679848010727 40.6844998577174...  121877.602841  \n",
       "9  POLYGON ((-73.95257901000322 40.58420663471234...   18548.601206  "
      ]
     },
     "execution_count": 35,
     "metadata": {},
     "output_type": "execute_result"
    }
   ],
   "source": [
    "parks_merged = parks_merged.reset_index()\n",
    "parks_merged.head(10)"
   ]
  },
  {
   "cell_type": "code",
   "execution_count": 36,
   "metadata": {
    "collapsed": false,
    "deletable": true,
    "editable": true
   },
   "outputs": [
    {
     "name": "stdout",
     "output_type": "stream",
     "text": [
      "12491   2030\n"
     ]
    }
   ],
   "source": [
    "print len(prks), \" \", len(parks_merged)"
   ]
  },
  {
   "cell_type": "code",
   "execution_count": 37,
   "metadata": {
    "collapsed": false,
    "deletable": true,
    "editable": true
   },
   "outputs": [],
   "source": [
    "park_list = map(lambda x: x[0].lower(), park_list)"
   ]
  },
  {
   "cell_type": "code",
   "execution_count": 38,
   "metadata": {
    "collapsed": false,
    "deletable": true,
    "editable": true
   },
   "outputs": [],
   "source": [
    "parks_merged['park_name'] = parks_merged['park_name'].apply(lambda x: x.lower())"
   ]
  },
  {
   "cell_type": "code",
   "execution_count": 39,
   "metadata": {
    "collapsed": false,
    "deletable": true,
    "editable": true
   },
   "outputs": [
    {
     "data": {
      "text/html": [
       "<div>\n",
       "<table border=\"1\" class=\"dataframe\">\n",
       "  <thead>\n",
       "    <tr style=\"text-align: right;\">\n",
       "      <th></th>\n",
       "      <th>park_name</th>\n",
       "      <th>geometry</th>\n",
       "      <th>shape_area</th>\n",
       "    </tr>\n",
       "  </thead>\n",
       "  <tbody>\n",
       "    <tr>\n",
       "      <th>0</th>\n",
       "      <td>\"uncle\" vito e. maranzano glendale playground</td>\n",
       "      <td>POLYGON ((-73.88152476475133 40.70529950390424...</td>\n",
       "      <td>6687.637331</td>\n",
       "    </tr>\n",
       "    <tr>\n",
       "      <th>1</th>\n",
       "      <td>100% playground</td>\n",
       "      <td>POLYGON ((-73.8997241390196 40.6465536310036, ...</td>\n",
       "      <td>3933.762638</td>\n",
       "    </tr>\n",
       "    <tr>\n",
       "      <th>2</th>\n",
       "      <td>101st st. soccer field</td>\n",
       "      <td>POLYGON ((-73.97360601490826 40.80064096880579...</td>\n",
       "      <td>1772.610175</td>\n",
       "    </tr>\n",
       "  </tbody>\n",
       "</table>\n",
       "</div>"
      ],
      "text/plain": [
       "                                       park_name  \\\n",
       "0  \"uncle\" vito e. maranzano glendale playground   \n",
       "1                                100% playground   \n",
       "2                         101st st. soccer field   \n",
       "\n",
       "                                            geometry   shape_area  \n",
       "0  POLYGON ((-73.88152476475133 40.70529950390424...  6687.637331  \n",
       "1  POLYGON ((-73.8997241390196 40.6465536310036, ...  3933.762638  \n",
       "2  POLYGON ((-73.97360601490826 40.80064096880579...  1772.610175  "
      ]
     },
     "execution_count": 39,
     "metadata": {},
     "output_type": "execute_result"
    }
   ],
   "source": [
    "parks_merged.head(3)"
   ]
  },
  {
   "cell_type": "code",
   "execution_count": 40,
   "metadata": {
    "collapsed": false,
    "deletable": true,
    "editable": true
   },
   "outputs": [
    {
     "name": "stdout",
     "output_type": "stream",
     "text": [
      "                                        park_name  \\\n",
      "0   \"uncle\" vito e. maranzano glendale playground   \n",
      "1                                 100% playground   \n",
      "28                         abe stark skating rink   \n",
      "\n",
      "                                             geometry     shape_area  \n",
      "0   POLYGON ((-73.88152476475133 40.70529950390424...    6687.637331  \n",
      "1   POLYGON ((-73.8997241390196 40.6465536310036, ...    3933.762638  \n",
      "28  POLYGON ((-73.98538945921833 40.57474167812293...  382563.169367   749\n"
     ]
    }
   ],
   "source": [
    "parks_merged = parks_merged[parks_merged['park_name'].isin(park_list)]\n",
    "print parks_merged.head(3), len(parks_merged)"
   ]
  },
  {
   "cell_type": "code",
   "execution_count": 41,
   "metadata": {
    "collapsed": false,
    "deletable": true,
    "editable": true
   },
   "outputs": [],
   "source": [
    "parks_merged = parks_merged[['park_name', 'geometry']]\n",
    "parks_merged.crs = {'init': 'epsg:4326'}"
   ]
  },
  {
   "cell_type": "code",
   "execution_count": 42,
   "metadata": {
    "collapsed": false,
    "deletable": true,
    "editable": true
   },
   "outputs": [
    {
     "data": {
      "text/html": [
       "<div>\n",
       "<table border=\"1\" class=\"dataframe\">\n",
       "  <thead>\n",
       "    <tr style=\"text-align: right;\">\n",
       "      <th></th>\n",
       "      <th>Created_Time</th>\n",
       "      <th>Complaint</th>\n",
       "      <th>Details</th>\n",
       "      <th>geometry</th>\n",
       "    </tr>\n",
       "  </thead>\n",
       "  <tbody>\n",
       "    <tr>\n",
       "      <th>0</th>\n",
       "      <td>2014-07-01 01:08:00</td>\n",
       "      <td>Street Light Condition</td>\n",
       "      <td>Lamppost Missing</td>\n",
       "      <td>POLYGON ((-73.98970377473506 40.71720016522855...</td>\n",
       "    </tr>\n",
       "    <tr>\n",
       "      <th>1</th>\n",
       "      <td>2014-07-01 01:11:00</td>\n",
       "      <td>Street Light Condition</td>\n",
       "      <td>Street Light Out</td>\n",
       "      <td>POLYGON ((-73.96500432599403 40.62466637345132...</td>\n",
       "    </tr>\n",
       "    <tr>\n",
       "      <th>2</th>\n",
       "      <td>2014-07-01 01:21:00</td>\n",
       "      <td>Street Light Condition</td>\n",
       "      <td>Street Light Out</td>\n",
       "      <td>POLYGON ((-73.93647256682728 40.76020481476834...</td>\n",
       "    </tr>\n",
       "  </tbody>\n",
       "</table>\n",
       "</div>"
      ],
      "text/plain": [
       "         Created_Time               Complaint           Details  \\\n",
       "0 2014-07-01 01:08:00  Street Light Condition  Lamppost Missing   \n",
       "1 2014-07-01 01:11:00  Street Light Condition  Street Light Out   \n",
       "2 2014-07-01 01:21:00  Street Light Condition  Street Light Out   \n",
       "\n",
       "                                            geometry  \n",
       "0  POLYGON ((-73.98970377473506 40.71720016522855...  \n",
       "1  POLYGON ((-73.96500432599403 40.62466637345132...  \n",
       "2  POLYGON ((-73.93647256682728 40.76020481476834...  "
      ]
     },
     "execution_count": 42,
     "metadata": {},
     "output_type": "execute_result"
    }
   ],
   "source": [
    "geo311.head(3)"
   ]
  },
  {
   "cell_type": "code",
   "execution_count": 43,
   "metadata": {
    "collapsed": false,
    "deletable": true,
    "editable": true
   },
   "outputs": [
    {
     "name": "stdout",
     "output_type": "stream",
     "text": [
      "{'init': 'epsg:4326'}   {'init': 'epsg:4326'}\n"
     ]
    }
   ],
   "source": [
    "print parks_merged.crs, \" \", geo311.crs"
   ]
  },
  {
   "cell_type": "code",
   "execution_count": 44,
   "metadata": {
    "collapsed": false,
    "deletable": true,
    "editable": true
   },
   "outputs": [
    {
     "name": "stderr",
     "output_type": "stream",
     "text": [
      "/home/denis/anaconda2/lib/python2.7/site-packages/numpy/lib/function_base.py:2652: RuntimeWarning: invalid value encountered in find_intersects (vectorized)\n",
      "  outputs = ufunc(*inputs)\n"
     ]
    }
   ],
   "source": [
    "joined = sjoin(geo311, parks_merged, how = 'inner', op = 'intersects')"
   ]
  },
  {
   "cell_type": "code",
   "execution_count": 45,
   "metadata": {
    "collapsed": false,
    "deletable": true,
    "editable": true
   },
   "outputs": [
    {
     "data": {
      "text/plain": [
       "28526"
      ]
     },
     "execution_count": 45,
     "metadata": {},
     "output_type": "execute_result"
    }
   ],
   "source": [
    "len(joined)"
   ]
  },
  {
   "cell_type": "code",
   "execution_count": 46,
   "metadata": {
    "collapsed": false,
    "deletable": true,
    "editable": true
   },
   "outputs": [
    {
     "data": {
      "text/html": [
       "<div>\n",
       "<table border=\"1\" class=\"dataframe\">\n",
       "  <thead>\n",
       "    <tr style=\"text-align: right;\">\n",
       "      <th></th>\n",
       "      <th>Created_Time</th>\n",
       "      <th>Complaint</th>\n",
       "      <th>Details</th>\n",
       "      <th>geometry</th>\n",
       "      <th>index_right</th>\n",
       "      <th>park_name</th>\n",
       "    </tr>\n",
       "  </thead>\n",
       "  <tbody>\n",
       "    <tr>\n",
       "      <th>60763</th>\n",
       "      <td>2015-07-14 16:42:00</td>\n",
       "      <td>Street Light Condition</td>\n",
       "      <td>Street Light Out</td>\n",
       "      <td>POLYGON ((-73.84906039529461 40.86573573157896...</td>\n",
       "      <td>54</td>\n",
       "      <td>allerton playground</td>\n",
       "    </tr>\n",
       "    <tr>\n",
       "      <th>88654</th>\n",
       "      <td>2015-12-30 13:32:00</td>\n",
       "      <td>Street Light Condition</td>\n",
       "      <td>Street Light Lamp Dim</td>\n",
       "      <td>POLYGON ((-73.8500157432694 40.86534722156919,...</td>\n",
       "      <td>54</td>\n",
       "      <td>allerton playground</td>\n",
       "    </tr>\n",
       "    <tr>\n",
       "      <th>95332</th>\n",
       "      <td>2016-02-11 16:36:00</td>\n",
       "      <td>Street Light Condition</td>\n",
       "      <td>Street Light Out</td>\n",
       "      <td>POLYGON ((-73.8500157432694 40.86534722156919,...</td>\n",
       "      <td>54</td>\n",
       "      <td>allerton playground</td>\n",
       "    </tr>\n",
       "    <tr>\n",
       "      <th>106007</th>\n",
       "      <td>2016-04-18 15:39:00</td>\n",
       "      <td>Street Light Condition</td>\n",
       "      <td>Street Light Out</td>\n",
       "      <td>POLYGON ((-73.8500157432694 40.86534722156919,...</td>\n",
       "      <td>54</td>\n",
       "      <td>allerton playground</td>\n",
       "    </tr>\n",
       "    <tr>\n",
       "      <th>106806</th>\n",
       "      <td>2016-04-22 09:40:00</td>\n",
       "      <td>Street Light Condition</td>\n",
       "      <td>Street Light Out</td>\n",
       "      <td>POLYGON ((-73.84906039529461 40.86573573157896...</td>\n",
       "      <td>54</td>\n",
       "      <td>allerton playground</td>\n",
       "    </tr>\n",
       "    <tr>\n",
       "      <th>110827</th>\n",
       "      <td>2016-05-17 13:55:00</td>\n",
       "      <td>Street Light Condition</td>\n",
       "      <td>Street Light Out</td>\n",
       "      <td>POLYGON ((-73.8500157432694 40.86534722156919,...</td>\n",
       "      <td>54</td>\n",
       "      <td>allerton playground</td>\n",
       "    </tr>\n",
       "    <tr>\n",
       "      <th>119953</th>\n",
       "      <td>2016-07-15 12:45:00</td>\n",
       "      <td>Street Light Condition</td>\n",
       "      <td>Street Light Out</td>\n",
       "      <td>POLYGON ((-73.8500157432694 40.86534722156919,...</td>\n",
       "      <td>54</td>\n",
       "      <td>allerton playground</td>\n",
       "    </tr>\n",
       "    <tr>\n",
       "      <th>122417</th>\n",
       "      <td>2016-08-01 20:16:00</td>\n",
       "      <td>Street Light Condition</td>\n",
       "      <td>Street Light Out</td>\n",
       "      <td>POLYGON ((-73.8500157432694 40.86534722156919,...</td>\n",
       "      <td>54</td>\n",
       "      <td>allerton playground</td>\n",
       "    </tr>\n",
       "    <tr>\n",
       "      <th>124208</th>\n",
       "      <td>2016-08-12 21:34:00</td>\n",
       "      <td>Street Light Condition</td>\n",
       "      <td>Street Light Out</td>\n",
       "      <td>POLYGON ((-73.85001484550185 40.86574794669372...</td>\n",
       "      <td>54</td>\n",
       "      <td>allerton playground</td>\n",
       "    </tr>\n",
       "    <tr>\n",
       "      <th>62263</th>\n",
       "      <td>2015-07-22 20:38:00</td>\n",
       "      <td>Street Light Condition</td>\n",
       "      <td>Street Light Out</td>\n",
       "      <td>POLYGON ((-73.98986736073319 40.73437686747114...</td>\n",
       "      <td>1888</td>\n",
       "      <td>union square park</td>\n",
       "    </tr>\n",
       "    <tr>\n",
       "      <th>67752</th>\n",
       "      <td>2015-08-24 13:23:00</td>\n",
       "      <td>Street Light Condition</td>\n",
       "      <td>Street Light Out</td>\n",
       "      <td>POLYGON ((-73.98980959063148 40.73464584873722...</td>\n",
       "      <td>1888</td>\n",
       "      <td>union square park</td>\n",
       "    </tr>\n",
       "    <tr>\n",
       "      <th>88791</th>\n",
       "      <td>2016-01-01 19:02:12</td>\n",
       "      <td>Drinking</td>\n",
       "      <td>Underage - Licensed Est</td>\n",
       "      <td>POLYGON ((-73.99106531104078 40.7344565541027,...</td>\n",
       "      <td>1888</td>\n",
       "      <td>union square park</td>\n",
       "    </tr>\n",
       "    <tr>\n",
       "      <th>97908</th>\n",
       "      <td>2016-02-28 00:24:04</td>\n",
       "      <td>Drinking</td>\n",
       "      <td>Underage - Licensed Est</td>\n",
       "      <td>POLYGON ((-73.99106531104078 40.7344565541027,...</td>\n",
       "      <td>1888</td>\n",
       "      <td>union square park</td>\n",
       "    </tr>\n",
       "    <tr>\n",
       "      <th>99182</th>\n",
       "      <td>2016-03-07 00:11:00</td>\n",
       "      <td>Street Light Condition</td>\n",
       "      <td>Street Light Out</td>\n",
       "      <td>POLYGON ((-73.98887153654742 40.73391566554618...</td>\n",
       "      <td>1888</td>\n",
       "      <td>union square park</td>\n",
       "    </tr>\n",
       "    <tr>\n",
       "      <th>121765</th>\n",
       "      <td>2016-07-27 14:21:00</td>\n",
       "      <td>Street Light Condition</td>\n",
       "      <td>Street Light Out</td>\n",
       "      <td>POLYGON ((-73.98983849008115 40.73440705746906...</td>\n",
       "      <td>1888</td>\n",
       "      <td>union square park</td>\n",
       "    </tr>\n",
       "    <tr>\n",
       "      <th>123442</th>\n",
       "      <td>2016-08-08 19:24:11</td>\n",
       "      <td>Drinking</td>\n",
       "      <td>In Public</td>\n",
       "      <td>POLYGON ((-73.98887154614322 40.73385253620648...</td>\n",
       "      <td>1888</td>\n",
       "      <td>union square park</td>\n",
       "    </tr>\n",
       "    <tr>\n",
       "      <th>123847</th>\n",
       "      <td>2016-08-11 03:03:00</td>\n",
       "      <td>Street Light Condition</td>\n",
       "      <td>Street Light Out</td>\n",
       "      <td>POLYGON ((-73.98990348058028 40.73410788445791...</td>\n",
       "      <td>1888</td>\n",
       "      <td>union square park</td>\n",
       "    </tr>\n",
       "    <tr>\n",
       "      <th>124284</th>\n",
       "      <td>2016-08-14 03:52:00</td>\n",
       "      <td>Street Light Condition</td>\n",
       "      <td>Street Light Out</td>\n",
       "      <td>POLYGON ((-73.98794375393494 40.73664386509432...</td>\n",
       "      <td>1888</td>\n",
       "      <td>union square park</td>\n",
       "    </tr>\n",
       "    <tr>\n",
       "      <th>126417</th>\n",
       "      <td>2016-08-28 00:26:00</td>\n",
       "      <td>Street Light Condition</td>\n",
       "      <td>Street Light Out</td>\n",
       "      <td>POLYGON ((-73.98926794387815 40.73736859933659...</td>\n",
       "      <td>1888</td>\n",
       "      <td>union square park</td>\n",
       "    </tr>\n",
       "    <tr>\n",
       "      <th>130943</th>\n",
       "      <td>2016-09-27 07:00:00</td>\n",
       "      <td>Street Light Condition</td>\n",
       "      <td>Street Light Out</td>\n",
       "      <td>POLYGON ((-73.98887153654742 40.73391566554618...</td>\n",
       "      <td>1888</td>\n",
       "      <td>union square park</td>\n",
       "    </tr>\n",
       "    <tr>\n",
       "      <th>62847</th>\n",
       "      <td>2015-07-26 22:12:00</td>\n",
       "      <td>Street Light Condition</td>\n",
       "      <td>Street Light Out</td>\n",
       "      <td>POLYGON ((-73.95566714259809 40.59663064423165...</td>\n",
       "      <td>1140</td>\n",
       "      <td>mellett playground</td>\n",
       "    </tr>\n",
       "    <tr>\n",
       "      <th>91745</th>\n",
       "      <td>2016-01-19 23:35:00</td>\n",
       "      <td>Street Light Condition</td>\n",
       "      <td>Street Light Out</td>\n",
       "      <td>POLYGON ((-73.95627933237526 40.59656499827707...</td>\n",
       "      <td>1140</td>\n",
       "      <td>mellett playground</td>\n",
       "    </tr>\n",
       "    <tr>\n",
       "      <th>107581</th>\n",
       "      <td>2016-04-27 13:55:00</td>\n",
       "      <td>Street Light Condition</td>\n",
       "      <td>Street Light Out</td>\n",
       "      <td>POLYGON ((-73.95566714259809 40.59663064423165...</td>\n",
       "      <td>1140</td>\n",
       "      <td>mellett playground</td>\n",
       "    </tr>\n",
       "    <tr>\n",
       "      <th>63089</th>\n",
       "      <td>2015-07-27 20:33:00</td>\n",
       "      <td>Street Light Condition</td>\n",
       "      <td>Street Light Out</td>\n",
       "      <td>POLYGON ((-73.9154816177643 40.61375795792007,...</td>\n",
       "      <td>1175</td>\n",
       "      <td>monsignor crawford field</td>\n",
       "    </tr>\n",
       "    <tr>\n",
       "      <th>67673</th>\n",
       "      <td>2015-08-23 21:33:00</td>\n",
       "      <td>Street Light Condition</td>\n",
       "      <td>Street Light Out</td>\n",
       "      <td>POLYGON ((-73.9154816177643 40.61375795792007,...</td>\n",
       "      <td>1175</td>\n",
       "      <td>monsignor crawford field</td>\n",
       "    </tr>\n",
       "    <tr>\n",
       "      <th>63104</th>\n",
       "      <td>2015-07-27 22:31:00</td>\n",
       "      <td>Street Light Condition</td>\n",
       "      <td>Street Light Out</td>\n",
       "      <td>POLYGON ((-73.91337356734834 40.8279408935319,...</td>\n",
       "      <td>85</td>\n",
       "      <td>arcilla playground</td>\n",
       "    </tr>\n",
       "    <tr>\n",
       "      <th>85814</th>\n",
       "      <td>2015-12-12 09:13:00</td>\n",
       "      <td>Street Light Condition</td>\n",
       "      <td>Lamppost Wire Exposed</td>\n",
       "      <td>POLYGON ((-73.91443436813483 40.82630582550647...</td>\n",
       "      <td>85</td>\n",
       "      <td>arcilla playground</td>\n",
       "    </tr>\n",
       "    <tr>\n",
       "      <th>100205</th>\n",
       "      <td>2016-03-11 14:12:00</td>\n",
       "      <td>Street Light Condition</td>\n",
       "      <td>Street Light Out</td>\n",
       "      <td>POLYGON ((-73.91395261753496 40.82723044060683...</td>\n",
       "      <td>85</td>\n",
       "      <td>arcilla playground</td>\n",
       "    </tr>\n",
       "    <tr>\n",
       "      <th>107602</th>\n",
       "      <td>2016-04-27 16:07:00</td>\n",
       "      <td>Street Light Condition</td>\n",
       "      <td>Street Light Out</td>\n",
       "      <td>POLYGON ((-73.91263052831287 40.82692479450002...</td>\n",
       "      <td>85</td>\n",
       "      <td>arcilla playground</td>\n",
       "    </tr>\n",
       "    <tr>\n",
       "      <th>128823</th>\n",
       "      <td>2016-09-13 17:58:00</td>\n",
       "      <td>Street Light Condition</td>\n",
       "      <td>Street Light Out</td>\n",
       "      <td>POLYGON ((-73.91263052831287 40.82692479450002...</td>\n",
       "      <td>85</td>\n",
       "      <td>arcilla playground</td>\n",
       "    </tr>\n",
       "    <tr>\n",
       "      <th>...</th>\n",
       "      <td>...</td>\n",
       "      <td>...</td>\n",
       "      <td>...</td>\n",
       "      <td>...</td>\n",
       "      <td>...</td>\n",
       "      <td>...</td>\n",
       "    </tr>\n",
       "    <tr>\n",
       "      <th>104445</th>\n",
       "      <td>2016-04-07 15:22:00</td>\n",
       "      <td>Street Light Condition</td>\n",
       "      <td>Street Light Out</td>\n",
       "      <td>POLYGON ((-73.71385908195991 40.74972426715751...</td>\n",
       "      <td>673</td>\n",
       "      <td>glen oaks oval</td>\n",
       "    </tr>\n",
       "    <tr>\n",
       "      <th>105504</th>\n",
       "      <td>2016-04-14 09:44:00</td>\n",
       "      <td>Street Light Condition</td>\n",
       "      <td>Street Light Out</td>\n",
       "      <td>POLYGON ((-73.71385908195991 40.74972426715751...</td>\n",
       "      <td>673</td>\n",
       "      <td>glen oaks oval</td>\n",
       "    </tr>\n",
       "    <tr>\n",
       "      <th>90627</th>\n",
       "      <td>2016-01-12 10:36:00</td>\n",
       "      <td>Street Light Condition</td>\n",
       "      <td>Street Light Out</td>\n",
       "      <td>POLYGON ((-73.77607425440628 40.78732730484755...</td>\n",
       "      <td>604</td>\n",
       "      <td>fort totten park</td>\n",
       "    </tr>\n",
       "    <tr>\n",
       "      <th>111332</th>\n",
       "      <td>2016-05-20 11:16:00</td>\n",
       "      <td>Street Light Condition</td>\n",
       "      <td>Street Light Out</td>\n",
       "      <td>POLYGON ((-73.77607425440628 40.78732730484755...</td>\n",
       "      <td>604</td>\n",
       "      <td>fort totten park</td>\n",
       "    </tr>\n",
       "    <tr>\n",
       "      <th>121763</th>\n",
       "      <td>2016-07-27 14:04:00</td>\n",
       "      <td>Street Light Condition</td>\n",
       "      <td>Street Light Out</td>\n",
       "      <td>POLYGON ((-73.77521041089329 40.79292764535661...</td>\n",
       "      <td>604</td>\n",
       "      <td>fort totten park</td>\n",
       "    </tr>\n",
       "    <tr>\n",
       "      <th>93160</th>\n",
       "      <td>2016-01-29 19:10:35</td>\n",
       "      <td>Drinking</td>\n",
       "      <td>In Public</td>\n",
       "      <td>POLYGON ((-74.00142172484431 40.74942941771808...</td>\n",
       "      <td>300</td>\n",
       "      <td>chelsea park</td>\n",
       "    </tr>\n",
       "    <tr>\n",
       "      <th>93260</th>\n",
       "      <td>2016-01-31 14:55:00</td>\n",
       "      <td>Street Light Condition</td>\n",
       "      <td>Lamppost Leaning</td>\n",
       "      <td>POLYGON ((-73.98125316139618 40.75226888956903...</td>\n",
       "      <td>240</td>\n",
       "      <td>bryant park</td>\n",
       "    </tr>\n",
       "    <tr>\n",
       "      <th>96194</th>\n",
       "      <td>2016-02-18 14:01:00</td>\n",
       "      <td>Street Light Condition</td>\n",
       "      <td>Street Light Out</td>\n",
       "      <td>POLYGON ((-74.06678656455759 40.6145643021389,...</td>\n",
       "      <td>939</td>\n",
       "      <td>kaltenmeier playground</td>\n",
       "    </tr>\n",
       "    <tr>\n",
       "      <th>105981</th>\n",
       "      <td>2016-04-18 14:27:00</td>\n",
       "      <td>Street Light Condition</td>\n",
       "      <td>Street Light Out</td>\n",
       "      <td>POLYGON ((-74.06752631296597 40.61590057821079...</td>\n",
       "      <td>939</td>\n",
       "      <td>kaltenmeier playground</td>\n",
       "    </tr>\n",
       "    <tr>\n",
       "      <th>125146</th>\n",
       "      <td>2016-08-20 21:04:00</td>\n",
       "      <td>Street Light Condition</td>\n",
       "      <td>Street Light Out</td>\n",
       "      <td>POLYGON ((-74.06880338268093 40.61436272512481...</td>\n",
       "      <td>939</td>\n",
       "      <td>kaltenmeier playground</td>\n",
       "    </tr>\n",
       "    <tr>\n",
       "      <th>131116</th>\n",
       "      <td>2016-09-27 20:08:00</td>\n",
       "      <td>Street Light Condition</td>\n",
       "      <td>Street Light Out</td>\n",
       "      <td>POLYGON ((-74.06725901120383 40.61515689809154...</td>\n",
       "      <td>939</td>\n",
       "      <td>kaltenmeier playground</td>\n",
       "    </tr>\n",
       "    <tr>\n",
       "      <th>101244</th>\n",
       "      <td>2016-03-19 05:27:18</td>\n",
       "      <td>Drinking</td>\n",
       "      <td>In Public</td>\n",
       "      <td>POLYGON ((-73.86161067632922 40.87921683879617...</td>\n",
       "      <td>39</td>\n",
       "      <td>agnes haywood playground</td>\n",
       "    </tr>\n",
       "    <tr>\n",
       "      <th>102377</th>\n",
       "      <td>2016-03-27 13:24:00</td>\n",
       "      <td>Street Light Condition</td>\n",
       "      <td>Street Light Out</td>\n",
       "      <td>POLYGON ((-73.9848783515007 40.57506929931245,...</td>\n",
       "      <td>28</td>\n",
       "      <td>abe stark skating rink</td>\n",
       "    </tr>\n",
       "    <tr>\n",
       "      <th>102378</th>\n",
       "      <td>2016-03-27 13:29:00</td>\n",
       "      <td>Street Light Condition</td>\n",
       "      <td>Street Light Out</td>\n",
       "      <td>POLYGON ((-73.9848783515007 40.57506929931245,...</td>\n",
       "      <td>28</td>\n",
       "      <td>abe stark skating rink</td>\n",
       "    </tr>\n",
       "    <tr>\n",
       "      <th>107432</th>\n",
       "      <td>2016-04-26 23:16:00</td>\n",
       "      <td>Street Light Condition</td>\n",
       "      <td>Street Light Out</td>\n",
       "      <td>POLYGON ((-73.9848603483202 40.57509125552883,...</td>\n",
       "      <td>28</td>\n",
       "      <td>abe stark skating rink</td>\n",
       "    </tr>\n",
       "    <tr>\n",
       "      <th>121131</th>\n",
       "      <td>2016-07-23 15:21:47</td>\n",
       "      <td>Drinking</td>\n",
       "      <td>In Public</td>\n",
       "      <td>POLYGON ((-73.98339936388554 40.57296384322506...</td>\n",
       "      <td>28</td>\n",
       "      <td>abe stark skating rink</td>\n",
       "    </tr>\n",
       "    <tr>\n",
       "      <th>110836</th>\n",
       "      <td>2016-05-17 16:22:00</td>\n",
       "      <td>Street Light Condition</td>\n",
       "      <td>Fixture/Luminaire Hanging</td>\n",
       "      <td>POLYGON ((-73.98633688651796 40.78047726512377...</td>\n",
       "      <td>1574</td>\n",
       "      <td>riverside park south</td>\n",
       "    </tr>\n",
       "    <tr>\n",
       "      <th>115440</th>\n",
       "      <td>2016-06-15 21:03:00</td>\n",
       "      <td>Street Light Condition</td>\n",
       "      <td>Street Light Out</td>\n",
       "      <td>POLYGON ((-73.9366033154858 40.82871059873495,...</td>\n",
       "      <td>801</td>\n",
       "      <td>holcombe rucker park</td>\n",
       "    </tr>\n",
       "    <tr>\n",
       "      <th>117030</th>\n",
       "      <td>2016-06-25 12:04:00</td>\n",
       "      <td>Street Light Condition</td>\n",
       "      <td>Street Light Out</td>\n",
       "      <td>POLYGON ((-73.9348063469603 40.82609938808193,...</td>\n",
       "      <td>626</td>\n",
       "      <td>frederick johnson playground</td>\n",
       "    </tr>\n",
       "    <tr>\n",
       "      <th>130416</th>\n",
       "      <td>2016-09-22 22:12:32</td>\n",
       "      <td>Drinking</td>\n",
       "      <td>In Public</td>\n",
       "      <td>POLYGON ((-73.93561985907333 40.82555089484149...</td>\n",
       "      <td>626</td>\n",
       "      <td>frederick johnson playground</td>\n",
       "    </tr>\n",
       "    <tr>\n",
       "      <th>117030</th>\n",
       "      <td>2016-06-25 12:04:00</td>\n",
       "      <td>Street Light Condition</td>\n",
       "      <td>Street Light Out</td>\n",
       "      <td>POLYGON ((-73.9348063469603 40.82609938808193,...</td>\n",
       "      <td>746</td>\n",
       "      <td>harlem lane playground</td>\n",
       "    </tr>\n",
       "    <tr>\n",
       "      <th>118098</th>\n",
       "      <td>2016-07-04 17:43:42</td>\n",
       "      <td>Drinking</td>\n",
       "      <td>In Public</td>\n",
       "      <td>POLYGON ((-73.91518270562477 40.80878956613164...</td>\n",
       "      <td>1433</td>\n",
       "      <td>people's park</td>\n",
       "    </tr>\n",
       "    <tr>\n",
       "      <th>118692</th>\n",
       "      <td>2016-07-07 14:08:00</td>\n",
       "      <td>Street Light Condition</td>\n",
       "      <td>Street Light Out</td>\n",
       "      <td>POLYGON ((-73.91787340258155 40.80327459273762...</td>\n",
       "      <td>1465</td>\n",
       "      <td>playground one thirty four cxxxiv</td>\n",
       "    </tr>\n",
       "    <tr>\n",
       "      <th>122029</th>\n",
       "      <td>2016-07-29 10:20:08</td>\n",
       "      <td>Drinking</td>\n",
       "      <td>In Public</td>\n",
       "      <td>POLYGON ((-73.95953272934078 40.72142619496145...</td>\n",
       "      <td>249</td>\n",
       "      <td>bushwick inlet park</td>\n",
       "    </tr>\n",
       "    <tr>\n",
       "      <th>125714</th>\n",
       "      <td>2016-08-23 21:09:02</td>\n",
       "      <td>Drinking</td>\n",
       "      <td>In Public</td>\n",
       "      <td>POLYGON ((-73.97086412354346 40.61915092609595...</td>\n",
       "      <td>634</td>\n",
       "      <td>friends field</td>\n",
       "    </tr>\n",
       "    <tr>\n",
       "      <th>127255</th>\n",
       "      <td>2016-09-01 17:20:11</td>\n",
       "      <td>Drinking</td>\n",
       "      <td>In Public</td>\n",
       "      <td>POLYGON ((-73.96822145116782 40.79609412127532...</td>\n",
       "      <td>742</td>\n",
       "      <td>happy warrior playground</td>\n",
       "    </tr>\n",
       "    <tr>\n",
       "      <th>127448</th>\n",
       "      <td>2016-09-02 17:20:39</td>\n",
       "      <td>Drinking</td>\n",
       "      <td>In Public</td>\n",
       "      <td>POLYGON ((-73.9677193275818 40.79631356440395,...</td>\n",
       "      <td>742</td>\n",
       "      <td>happy warrior playground</td>\n",
       "    </tr>\n",
       "    <tr>\n",
       "      <th>127940</th>\n",
       "      <td>2016-09-07 19:42:06</td>\n",
       "      <td>Drinking</td>\n",
       "      <td>In Public</td>\n",
       "      <td>POLYGON ((-73.96822145116782 40.79609412127532...</td>\n",
       "      <td>742</td>\n",
       "      <td>happy warrior playground</td>\n",
       "    </tr>\n",
       "    <tr>\n",
       "      <th>127448</th>\n",
       "      <td>2016-09-02 17:20:39</td>\n",
       "      <td>Drinking</td>\n",
       "      <td>In Public</td>\n",
       "      <td>POLYGON ((-73.9677193275818 40.79631356440395,...</td>\n",
       "      <td>625</td>\n",
       "      <td>frederick douglass playground</td>\n",
       "    </tr>\n",
       "    <tr>\n",
       "      <th>127933</th>\n",
       "      <td>2016-09-07 18:21:01</td>\n",
       "      <td>Drinking</td>\n",
       "      <td>In Public</td>\n",
       "      <td>POLYGON ((-73.94107531377959 40.79299311011608...</td>\n",
       "      <td>1485</td>\n",
       "      <td>poor richard's playground</td>\n",
       "    </tr>\n",
       "  </tbody>\n",
       "</table>\n",
       "<p>100 rows × 6 columns</p>\n",
       "</div>"
      ],
      "text/plain": [
       "              Created_Time               Complaint                    Details  \\\n",
       "60763  2015-07-14 16:42:00  Street Light Condition           Street Light Out   \n",
       "88654  2015-12-30 13:32:00  Street Light Condition      Street Light Lamp Dim   \n",
       "95332  2016-02-11 16:36:00  Street Light Condition           Street Light Out   \n",
       "106007 2016-04-18 15:39:00  Street Light Condition           Street Light Out   \n",
       "106806 2016-04-22 09:40:00  Street Light Condition           Street Light Out   \n",
       "110827 2016-05-17 13:55:00  Street Light Condition           Street Light Out   \n",
       "119953 2016-07-15 12:45:00  Street Light Condition           Street Light Out   \n",
       "122417 2016-08-01 20:16:00  Street Light Condition           Street Light Out   \n",
       "124208 2016-08-12 21:34:00  Street Light Condition           Street Light Out   \n",
       "62263  2015-07-22 20:38:00  Street Light Condition           Street Light Out   \n",
       "67752  2015-08-24 13:23:00  Street Light Condition           Street Light Out   \n",
       "88791  2016-01-01 19:02:12                Drinking    Underage - Licensed Est   \n",
       "97908  2016-02-28 00:24:04                Drinking    Underage - Licensed Est   \n",
       "99182  2016-03-07 00:11:00  Street Light Condition           Street Light Out   \n",
       "121765 2016-07-27 14:21:00  Street Light Condition           Street Light Out   \n",
       "123442 2016-08-08 19:24:11                Drinking                  In Public   \n",
       "123847 2016-08-11 03:03:00  Street Light Condition           Street Light Out   \n",
       "124284 2016-08-14 03:52:00  Street Light Condition           Street Light Out   \n",
       "126417 2016-08-28 00:26:00  Street Light Condition           Street Light Out   \n",
       "130943 2016-09-27 07:00:00  Street Light Condition           Street Light Out   \n",
       "62847  2015-07-26 22:12:00  Street Light Condition           Street Light Out   \n",
       "91745  2016-01-19 23:35:00  Street Light Condition           Street Light Out   \n",
       "107581 2016-04-27 13:55:00  Street Light Condition           Street Light Out   \n",
       "63089  2015-07-27 20:33:00  Street Light Condition           Street Light Out   \n",
       "67673  2015-08-23 21:33:00  Street Light Condition           Street Light Out   \n",
       "63104  2015-07-27 22:31:00  Street Light Condition           Street Light Out   \n",
       "85814  2015-12-12 09:13:00  Street Light Condition      Lamppost Wire Exposed   \n",
       "100205 2016-03-11 14:12:00  Street Light Condition           Street Light Out   \n",
       "107602 2016-04-27 16:07:00  Street Light Condition           Street Light Out   \n",
       "128823 2016-09-13 17:58:00  Street Light Condition           Street Light Out   \n",
       "...                    ...                     ...                        ...   \n",
       "104445 2016-04-07 15:22:00  Street Light Condition           Street Light Out   \n",
       "105504 2016-04-14 09:44:00  Street Light Condition           Street Light Out   \n",
       "90627  2016-01-12 10:36:00  Street Light Condition           Street Light Out   \n",
       "111332 2016-05-20 11:16:00  Street Light Condition           Street Light Out   \n",
       "121763 2016-07-27 14:04:00  Street Light Condition           Street Light Out   \n",
       "93160  2016-01-29 19:10:35                Drinking                  In Public   \n",
       "93260  2016-01-31 14:55:00  Street Light Condition           Lamppost Leaning   \n",
       "96194  2016-02-18 14:01:00  Street Light Condition           Street Light Out   \n",
       "105981 2016-04-18 14:27:00  Street Light Condition           Street Light Out   \n",
       "125146 2016-08-20 21:04:00  Street Light Condition           Street Light Out   \n",
       "131116 2016-09-27 20:08:00  Street Light Condition           Street Light Out   \n",
       "101244 2016-03-19 05:27:18                Drinking                  In Public   \n",
       "102377 2016-03-27 13:24:00  Street Light Condition           Street Light Out   \n",
       "102378 2016-03-27 13:29:00  Street Light Condition           Street Light Out   \n",
       "107432 2016-04-26 23:16:00  Street Light Condition           Street Light Out   \n",
       "121131 2016-07-23 15:21:47                Drinking                  In Public   \n",
       "110836 2016-05-17 16:22:00  Street Light Condition  Fixture/Luminaire Hanging   \n",
       "115440 2016-06-15 21:03:00  Street Light Condition           Street Light Out   \n",
       "117030 2016-06-25 12:04:00  Street Light Condition           Street Light Out   \n",
       "130416 2016-09-22 22:12:32                Drinking                  In Public   \n",
       "117030 2016-06-25 12:04:00  Street Light Condition           Street Light Out   \n",
       "118098 2016-07-04 17:43:42                Drinking                  In Public   \n",
       "118692 2016-07-07 14:08:00  Street Light Condition           Street Light Out   \n",
       "122029 2016-07-29 10:20:08                Drinking                  In Public   \n",
       "125714 2016-08-23 21:09:02                Drinking                  In Public   \n",
       "127255 2016-09-01 17:20:11                Drinking                  In Public   \n",
       "127448 2016-09-02 17:20:39                Drinking                  In Public   \n",
       "127940 2016-09-07 19:42:06                Drinking                  In Public   \n",
       "127448 2016-09-02 17:20:39                Drinking                  In Public   \n",
       "127933 2016-09-07 18:21:01                Drinking                  In Public   \n",
       "\n",
       "                                                 geometry  index_right  \\\n",
       "60763   POLYGON ((-73.84906039529461 40.86573573157896...           54   \n",
       "88654   POLYGON ((-73.8500157432694 40.86534722156919,...           54   \n",
       "95332   POLYGON ((-73.8500157432694 40.86534722156919,...           54   \n",
       "106007  POLYGON ((-73.8500157432694 40.86534722156919,...           54   \n",
       "106806  POLYGON ((-73.84906039529461 40.86573573157896...           54   \n",
       "110827  POLYGON ((-73.8500157432694 40.86534722156919,...           54   \n",
       "119953  POLYGON ((-73.8500157432694 40.86534722156919,...           54   \n",
       "122417  POLYGON ((-73.8500157432694 40.86534722156919,...           54   \n",
       "124208  POLYGON ((-73.85001484550185 40.86574794669372...           54   \n",
       "62263   POLYGON ((-73.98986736073319 40.73437686747114...         1888   \n",
       "67752   POLYGON ((-73.98980959063148 40.73464584873722...         1888   \n",
       "88791   POLYGON ((-73.99106531104078 40.7344565541027,...         1888   \n",
       "97908   POLYGON ((-73.99106531104078 40.7344565541027,...         1888   \n",
       "99182   POLYGON ((-73.98887153654742 40.73391566554618...         1888   \n",
       "121765  POLYGON ((-73.98983849008115 40.73440705746906...         1888   \n",
       "123442  POLYGON ((-73.98887154614322 40.73385253620648...         1888   \n",
       "123847  POLYGON ((-73.98990348058028 40.73410788445791...         1888   \n",
       "124284  POLYGON ((-73.98794375393494 40.73664386509432...         1888   \n",
       "126417  POLYGON ((-73.98926794387815 40.73736859933659...         1888   \n",
       "130943  POLYGON ((-73.98887153654742 40.73391566554618...         1888   \n",
       "62847   POLYGON ((-73.95566714259809 40.59663064423165...         1140   \n",
       "91745   POLYGON ((-73.95627933237526 40.59656499827707...         1140   \n",
       "107581  POLYGON ((-73.95566714259809 40.59663064423165...         1140   \n",
       "63089   POLYGON ((-73.9154816177643 40.61375795792007,...         1175   \n",
       "67673   POLYGON ((-73.9154816177643 40.61375795792007,...         1175   \n",
       "63104   POLYGON ((-73.91337356734834 40.8279408935319,...           85   \n",
       "85814   POLYGON ((-73.91443436813483 40.82630582550647...           85   \n",
       "100205  POLYGON ((-73.91395261753496 40.82723044060683...           85   \n",
       "107602  POLYGON ((-73.91263052831287 40.82692479450002...           85   \n",
       "128823  POLYGON ((-73.91263052831287 40.82692479450002...           85   \n",
       "...                                                   ...          ...   \n",
       "104445  POLYGON ((-73.71385908195991 40.74972426715751...          673   \n",
       "105504  POLYGON ((-73.71385908195991 40.74972426715751...          673   \n",
       "90627   POLYGON ((-73.77607425440628 40.78732730484755...          604   \n",
       "111332  POLYGON ((-73.77607425440628 40.78732730484755...          604   \n",
       "121763  POLYGON ((-73.77521041089329 40.79292764535661...          604   \n",
       "93160   POLYGON ((-74.00142172484431 40.74942941771808...          300   \n",
       "93260   POLYGON ((-73.98125316139618 40.75226888956903...          240   \n",
       "96194   POLYGON ((-74.06678656455759 40.6145643021389,...          939   \n",
       "105981  POLYGON ((-74.06752631296597 40.61590057821079...          939   \n",
       "125146  POLYGON ((-74.06880338268093 40.61436272512481...          939   \n",
       "131116  POLYGON ((-74.06725901120383 40.61515689809154...          939   \n",
       "101244  POLYGON ((-73.86161067632922 40.87921683879617...           39   \n",
       "102377  POLYGON ((-73.9848783515007 40.57506929931245,...           28   \n",
       "102378  POLYGON ((-73.9848783515007 40.57506929931245,...           28   \n",
       "107432  POLYGON ((-73.9848603483202 40.57509125552883,...           28   \n",
       "121131  POLYGON ((-73.98339936388554 40.57296384322506...           28   \n",
       "110836  POLYGON ((-73.98633688651796 40.78047726512377...         1574   \n",
       "115440  POLYGON ((-73.9366033154858 40.82871059873495,...          801   \n",
       "117030  POLYGON ((-73.9348063469603 40.82609938808193,...          626   \n",
       "130416  POLYGON ((-73.93561985907333 40.82555089484149...          626   \n",
       "117030  POLYGON ((-73.9348063469603 40.82609938808193,...          746   \n",
       "118098  POLYGON ((-73.91518270562477 40.80878956613164...         1433   \n",
       "118692  POLYGON ((-73.91787340258155 40.80327459273762...         1465   \n",
       "122029  POLYGON ((-73.95953272934078 40.72142619496145...          249   \n",
       "125714  POLYGON ((-73.97086412354346 40.61915092609595...          634   \n",
       "127255  POLYGON ((-73.96822145116782 40.79609412127532...          742   \n",
       "127448  POLYGON ((-73.9677193275818 40.79631356440395,...          742   \n",
       "127940  POLYGON ((-73.96822145116782 40.79609412127532...          742   \n",
       "127448  POLYGON ((-73.9677193275818 40.79631356440395,...          625   \n",
       "127933  POLYGON ((-73.94107531377959 40.79299311011608...         1485   \n",
       "\n",
       "                                park_name  \n",
       "60763                 allerton playground  \n",
       "88654                 allerton playground  \n",
       "95332                 allerton playground  \n",
       "106007                allerton playground  \n",
       "106806                allerton playground  \n",
       "110827                allerton playground  \n",
       "119953                allerton playground  \n",
       "122417                allerton playground  \n",
       "124208                allerton playground  \n",
       "62263                   union square park  \n",
       "67752                   union square park  \n",
       "88791                   union square park  \n",
       "97908                   union square park  \n",
       "99182                   union square park  \n",
       "121765                  union square park  \n",
       "123442                  union square park  \n",
       "123847                  union square park  \n",
       "124284                  union square park  \n",
       "126417                  union square park  \n",
       "130943                  union square park  \n",
       "62847                  mellett playground  \n",
       "91745                  mellett playground  \n",
       "107581                 mellett playground  \n",
       "63089            monsignor crawford field  \n",
       "67673            monsignor crawford field  \n",
       "63104                  arcilla playground  \n",
       "85814                  arcilla playground  \n",
       "100205                 arcilla playground  \n",
       "107602                 arcilla playground  \n",
       "128823                 arcilla playground  \n",
       "...                                   ...  \n",
       "104445                     glen oaks oval  \n",
       "105504                     glen oaks oval  \n",
       "90627                    fort totten park  \n",
       "111332                   fort totten park  \n",
       "121763                   fort totten park  \n",
       "93160                        chelsea park  \n",
       "93260                         bryant park  \n",
       "96194              kaltenmeier playground  \n",
       "105981             kaltenmeier playground  \n",
       "125146             kaltenmeier playground  \n",
       "131116             kaltenmeier playground  \n",
       "101244           agnes haywood playground  \n",
       "102377             abe stark skating rink  \n",
       "102378             abe stark skating rink  \n",
       "107432             abe stark skating rink  \n",
       "121131             abe stark skating rink  \n",
       "110836               riverside park south  \n",
       "115440               holcombe rucker park  \n",
       "117030       frederick johnson playground  \n",
       "130416       frederick johnson playground  \n",
       "117030             harlem lane playground  \n",
       "118098                      people's park  \n",
       "118692  playground one thirty four cxxxiv  \n",
       "122029                bushwick inlet park  \n",
       "125714                      friends field  \n",
       "127255           happy warrior playground  \n",
       "127448           happy warrior playground  \n",
       "127940           happy warrior playground  \n",
       "127448      frederick douglass playground  \n",
       "127933          poor richard's playground  \n",
       "\n",
       "[100 rows x 6 columns]"
      ]
     },
     "execution_count": 46,
     "metadata": {},
     "output_type": "execute_result"
    }
   ],
   "source": [
    "#world = world.to_crs({'init': 'epsg:3395'})\n",
    "#world.plot();\n",
    "joined.tail(100)"
   ]
  },
  {
   "cell_type": "code",
   "execution_count": 47,
   "metadata": {
    "collapsed": false,
    "deletable": true,
    "editable": true
   },
   "outputs": [],
   "source": [
    "def quartals(date):\n",
    "    date = str(date).split('-')\n",
    "    year = date[0]\n",
    "    month = date[1]\n",
    "    quartal = '1'\n",
    "    if month in ['04', '05', '06']:\n",
    "        quartal = '2'\n",
    "    if month in ['07', '08', '09']:\n",
    "        quartal = '3'\n",
    "    if month in ['10', '11', '12']:\n",
    "        quartal = '4'\n",
    "    return year+\"-q\"+(quartal)"
   ]
  },
  {
   "cell_type": "code",
   "execution_count": 48,
   "metadata": {
    "collapsed": false,
    "deletable": true,
    "editable": true
   },
   "outputs": [],
   "source": [
    "joined['Created_Time'] = joined['Created_Time'].apply(lambda x: quartals(x))"
   ]
  },
  {
   "cell_type": "code",
   "execution_count": 56,
   "metadata": {
    "collapsed": false,
    "deletable": true,
    "editable": true
   },
   "outputs": [
    {
     "data": {
      "text/html": [
       "<div>\n",
       "<table border=\"1\" class=\"dataframe\">\n",
       "  <thead>\n",
       "    <tr style=\"text-align: right;\">\n",
       "      <th></th>\n",
       "      <th>Created_Time</th>\n",
       "      <th>Complaint</th>\n",
       "      <th>Details</th>\n",
       "      <th>geometry</th>\n",
       "      <th>index_right</th>\n",
       "      <th>park_name</th>\n",
       "    </tr>\n",
       "  </thead>\n",
       "  <tbody>\n",
       "    <tr>\n",
       "      <th>0</th>\n",
       "      <td>2014-q3</td>\n",
       "      <td>Street Light Condition</td>\n",
       "      <td>Lamppost Missing</td>\n",
       "      <td>POLYGON ((-73.98970377473506 40.71720016522855...</td>\n",
       "      <td>53</td>\n",
       "      <td>allen mall one</td>\n",
       "    </tr>\n",
       "    <tr>\n",
       "      <th>2194</th>\n",
       "      <td>2014-q3</td>\n",
       "      <td>Street Light Condition</td>\n",
       "      <td>Multiple Street Lights Out</td>\n",
       "      <td>POLYGON ((-73.989364391092 40.71920381197606, ...</td>\n",
       "      <td>53</td>\n",
       "      <td>allen mall one</td>\n",
       "    </tr>\n",
       "    <tr>\n",
       "      <th>7300</th>\n",
       "      <td>2014-q3</td>\n",
       "      <td>Street Light Condition</td>\n",
       "      <td>Street Light Out</td>\n",
       "      <td>POLYGON ((-73.98811241142016 40.72030709359785...</td>\n",
       "      <td>53</td>\n",
       "      <td>allen mall one</td>\n",
       "    </tr>\n",
       "    <tr>\n",
       "      <th>7853</th>\n",
       "      <td>2014-q3</td>\n",
       "      <td>Street Light Condition</td>\n",
       "      <td>Street Light Out</td>\n",
       "      <td>POLYGON ((-73.98970377473506 40.71720016522855...</td>\n",
       "      <td>53</td>\n",
       "      <td>allen mall one</td>\n",
       "    </tr>\n",
       "    <tr>\n",
       "      <th>7913</th>\n",
       "      <td>2014-q3</td>\n",
       "      <td>Street Light Condition</td>\n",
       "      <td>Street Light Out</td>\n",
       "      <td>POLYGON ((-73.98813023116696 40.72164379280751...</td>\n",
       "      <td>53</td>\n",
       "      <td>allen mall one</td>\n",
       "    </tr>\n",
       "  </tbody>\n",
       "</table>\n",
       "</div>"
      ],
      "text/plain": [
       "     Created_Time               Complaint                     Details  \\\n",
       "0         2014-q3  Street Light Condition            Lamppost Missing   \n",
       "2194      2014-q3  Street Light Condition  Multiple Street Lights Out   \n",
       "7300      2014-q3  Street Light Condition            Street Light Out   \n",
       "7853      2014-q3  Street Light Condition            Street Light Out   \n",
       "7913      2014-q3  Street Light Condition            Street Light Out   \n",
       "\n",
       "                                               geometry  index_right  \\\n",
       "0     POLYGON ((-73.98970377473506 40.71720016522855...           53   \n",
       "2194  POLYGON ((-73.989364391092 40.71920381197606, ...           53   \n",
       "7300  POLYGON ((-73.98811241142016 40.72030709359785...           53   \n",
       "7853  POLYGON ((-73.98970377473506 40.71720016522855...           53   \n",
       "7913  POLYGON ((-73.98813023116696 40.72164379280751...           53   \n",
       "\n",
       "           park_name  \n",
       "0     allen mall one  \n",
       "2194  allen mall one  \n",
       "7300  allen mall one  \n",
       "7853  allen mall one  \n",
       "7913  allen mall one  "
      ]
     },
     "execution_count": 56,
     "metadata": {},
     "output_type": "execute_result"
    }
   ],
   "source": [
    "joined.head(5)"
   ]
  },
  {
   "cell_type": "code",
   "execution_count": 59,
   "metadata": {
    "collapsed": false
   },
   "outputs": [],
   "source": [
    "del joined['Details']"
   ]
  },
  {
   "cell_type": "code",
   "execution_count": 68,
   "metadata": {
    "collapsed": true
   },
   "outputs": [],
   "source": [
    "del joined['geometry']\n",
    "del joined['index_right']"
   ]
  },
  {
   "cell_type": "code",
   "execution_count": 69,
   "metadata": {
    "collapsed": false
   },
   "outputs": [
    {
     "data": {
      "text/html": [
       "<div>\n",
       "<table border=\"1\" class=\"dataframe\">\n",
       "  <thead>\n",
       "    <tr style=\"text-align: right;\">\n",
       "      <th></th>\n",
       "      <th>Created_Time</th>\n",
       "      <th>Complaint</th>\n",
       "      <th>park_name</th>\n",
       "    </tr>\n",
       "  </thead>\n",
       "  <tbody>\n",
       "    <tr>\n",
       "      <th>0</th>\n",
       "      <td>2014-q3</td>\n",
       "      <td>Street Light Condition</td>\n",
       "      <td>allen mall one</td>\n",
       "    </tr>\n",
       "    <tr>\n",
       "      <th>2194</th>\n",
       "      <td>2014-q3</td>\n",
       "      <td>Street Light Condition</td>\n",
       "      <td>allen mall one</td>\n",
       "    </tr>\n",
       "    <tr>\n",
       "      <th>7300</th>\n",
       "      <td>2014-q3</td>\n",
       "      <td>Street Light Condition</td>\n",
       "      <td>allen mall one</td>\n",
       "    </tr>\n",
       "    <tr>\n",
       "      <th>7853</th>\n",
       "      <td>2014-q3</td>\n",
       "      <td>Street Light Condition</td>\n",
       "      <td>allen mall one</td>\n",
       "    </tr>\n",
       "    <tr>\n",
       "      <th>7913</th>\n",
       "      <td>2014-q3</td>\n",
       "      <td>Street Light Condition</td>\n",
       "      <td>allen mall one</td>\n",
       "    </tr>\n",
       "  </tbody>\n",
       "</table>\n",
       "</div>"
      ],
      "text/plain": [
       "     Created_Time               Complaint       park_name\n",
       "0         2014-q3  Street Light Condition  allen mall one\n",
       "2194      2014-q3  Street Light Condition  allen mall one\n",
       "7300      2014-q3  Street Light Condition  allen mall one\n",
       "7853      2014-q3  Street Light Condition  allen mall one\n",
       "7913      2014-q3  Street Light Condition  allen mall one"
      ]
     },
     "execution_count": 69,
     "metadata": {},
     "output_type": "execute_result"
    }
   ],
   "source": [
    "joined.head(5)"
   ]
  },
  {
   "cell_type": "code",
   "execution_count": 95,
   "metadata": {
    "collapsed": false
   },
   "outputs": [],
   "source": [
    "# Combining the complaints into a list\n",
    "grouped = joined.groupby(['Created_Time', 'park_name']).aggregate(lambda x: tuple(x))\n",
    "grouped = grouped.reset_index()"
   ]
  },
  {
   "cell_type": "code",
   "execution_count": 96,
   "metadata": {
    "collapsed": false
   },
   "outputs": [
    {
     "data": {
      "text/html": [
       "<div>\n",
       "<table border=\"1\" class=\"dataframe\">\n",
       "  <thead>\n",
       "    <tr style=\"text-align: right;\">\n",
       "      <th></th>\n",
       "      <th>Created_Time</th>\n",
       "      <th>park_name</th>\n",
       "      <th>Complaint</th>\n",
       "    </tr>\n",
       "  </thead>\n",
       "  <tbody>\n",
       "    <tr>\n",
       "      <th>0</th>\n",
       "      <td>2014-q3</td>\n",
       "      <td>\"uncle\" vito e. maranzano glendale playground</td>\n",
       "      <td>(Street Light Condition,)</td>\n",
       "    </tr>\n",
       "    <tr>\n",
       "      <th>1</th>\n",
       "      <td>2014-q3</td>\n",
       "      <td>adam clayton powell jr. malls</td>\n",
       "      <td>(Street Light Condition, Street Light Conditio...</td>\n",
       "    </tr>\n",
       "    <tr>\n",
       "      <th>2</th>\n",
       "      <td>2014-q3</td>\n",
       "      <td>admiral farragut playground</td>\n",
       "      <td>(Street Light Condition, Street Light Condition)</td>\n",
       "    </tr>\n",
       "  </tbody>\n",
       "</table>\n",
       "</div>"
      ],
      "text/plain": [
       "  Created_Time                                      park_name  \\\n",
       "0      2014-q3  \"uncle\" vito e. maranzano glendale playground   \n",
       "1      2014-q3                  adam clayton powell jr. malls   \n",
       "2      2014-q3                    admiral farragut playground   \n",
       "\n",
       "                                           Complaint  \n",
       "0                          (Street Light Condition,)  \n",
       "1  (Street Light Condition, Street Light Conditio...  \n",
       "2   (Street Light Condition, Street Light Condition)  "
      ]
     },
     "execution_count": 96,
     "metadata": {},
     "output_type": "execute_result"
    }
   ],
   "source": [
    "grouped.head(3)"
   ]
  },
  {
   "cell_type": "code",
   "execution_count": 97,
   "metadata": {
    "collapsed": false
   },
   "outputs": [],
   "source": [
    "# Preparing columns for counting\n",
    "grouped['Street_light'] = [0]*len(grouped)\n",
    "grouped['Drinking'] = [0]*len(grouped)\n",
    "grouped['Drugs'] = [0]*len(grouped)\n",
    "grouped['Total'] = [0]*len(grouped)"
   ]
  },
  {
   "cell_type": "code",
   "execution_count": 98,
   "metadata": {
    "collapsed": false,
    "deletable": true,
    "editable": true
   },
   "outputs": [
    {
     "data": {
      "text/html": [
       "<div>\n",
       "<table border=\"1\" class=\"dataframe\">\n",
       "  <thead>\n",
       "    <tr style=\"text-align: right;\">\n",
       "      <th></th>\n",
       "      <th>Created_Time</th>\n",
       "      <th>park_name</th>\n",
       "      <th>Complaint</th>\n",
       "      <th>Street_light</th>\n",
       "      <th>Drinking</th>\n",
       "      <th>Drugs</th>\n",
       "      <th>Total</th>\n",
       "    </tr>\n",
       "  </thead>\n",
       "  <tbody>\n",
       "    <tr>\n",
       "      <th>0</th>\n",
       "      <td>2014-q3</td>\n",
       "      <td>\"uncle\" vito e. maranzano glendale playground</td>\n",
       "      <td>(Street Light Condition,)</td>\n",
       "      <td>0</td>\n",
       "      <td>0</td>\n",
       "      <td>0</td>\n",
       "      <td>0</td>\n",
       "    </tr>\n",
       "    <tr>\n",
       "      <th>1</th>\n",
       "      <td>2014-q3</td>\n",
       "      <td>adam clayton powell jr. malls</td>\n",
       "      <td>(Street Light Condition, Street Light Conditio...</td>\n",
       "      <td>0</td>\n",
       "      <td>0</td>\n",
       "      <td>0</td>\n",
       "      <td>0</td>\n",
       "    </tr>\n",
       "    <tr>\n",
       "      <th>2</th>\n",
       "      <td>2014-q3</td>\n",
       "      <td>admiral farragut playground</td>\n",
       "      <td>(Street Light Condition, Street Light Condition)</td>\n",
       "      <td>0</td>\n",
       "      <td>0</td>\n",
       "      <td>0</td>\n",
       "      <td>0</td>\n",
       "    </tr>\n",
       "  </tbody>\n",
       "</table>\n",
       "</div>"
      ],
      "text/plain": [
       "  Created_Time                                      park_name  \\\n",
       "0      2014-q3  \"uncle\" vito e. maranzano glendale playground   \n",
       "1      2014-q3                  adam clayton powell jr. malls   \n",
       "2      2014-q3                    admiral farragut playground   \n",
       "\n",
       "                                           Complaint  Street_light  Drinking  \\\n",
       "0                          (Street Light Condition,)             0         0   \n",
       "1  (Street Light Condition, Street Light Conditio...             0         0   \n",
       "2   (Street Light Condition, Street Light Condition)             0         0   \n",
       "\n",
       "   Drugs  Total  \n",
       "0      0      0  \n",
       "1      0      0  \n",
       "2      0      0  "
      ]
     },
     "execution_count": 98,
     "metadata": {},
     "output_type": "execute_result"
    }
   ],
   "source": [
    "grouped.head(3)"
   ]
  },
  {
   "cell_type": "code",
   "execution_count": 99,
   "metadata": {
    "collapsed": false,
    "deletable": true,
    "editable": true
   },
   "outputs": [],
   "source": [
    "# Counting complaints by type\n",
    "grouped['Street_light'] = grouped['Complaint'].apply(lambda x: len(filter(lambda y: y == 'Street Light Condition', x)))\n",
    "grouped['Drinking'] = grouped['Complaint'].apply(lambda x: len(filter(lambda y: y == 'Drinking', x)))\n",
    "grouped['Drugs'] = grouped['Complaint'].apply(lambda x: len(filter(lambda y: y == 'Drug Activity', x)))\n",
    "grouped['Total'] = grouped['Complaint'].apply(lambda x: len(x))"
   ]
  },
  {
   "cell_type": "code",
   "execution_count": 102,
   "metadata": {
    "collapsed": false,
    "scrolled": false
   },
   "outputs": [],
   "source": [
    "grouped = grouped[['Created_Time', 'park_name', 'Street_light', 'Drinking', 'Drugs', 'Total']]"
   ]
  },
  {
   "cell_type": "code",
   "execution_count": 103,
   "metadata": {
    "collapsed": false
   },
   "outputs": [
    {
     "data": {
      "text/html": [
       "<div>\n",
       "<table border=\"1\" class=\"dataframe\">\n",
       "  <thead>\n",
       "    <tr style=\"text-align: right;\">\n",
       "      <th></th>\n",
       "      <th>Created_Time</th>\n",
       "      <th>park_name</th>\n",
       "      <th>Street_light</th>\n",
       "      <th>Drinking</th>\n",
       "      <th>Drugs</th>\n",
       "      <th>Total</th>\n",
       "    </tr>\n",
       "  </thead>\n",
       "  <tbody>\n",
       "    <tr>\n",
       "      <th>0</th>\n",
       "      <td>2014-q3</td>\n",
       "      <td>\"uncle\" vito e. maranzano glendale playground</td>\n",
       "      <td>1</td>\n",
       "      <td>0</td>\n",
       "      <td>0</td>\n",
       "      <td>1</td>\n",
       "    </tr>\n",
       "    <tr>\n",
       "      <th>1</th>\n",
       "      <td>2014-q3</td>\n",
       "      <td>adam clayton powell jr. malls</td>\n",
       "      <td>4</td>\n",
       "      <td>1</td>\n",
       "      <td>0</td>\n",
       "      <td>5</td>\n",
       "    </tr>\n",
       "    <tr>\n",
       "      <th>2</th>\n",
       "      <td>2014-q3</td>\n",
       "      <td>admiral farragut playground</td>\n",
       "      <td>2</td>\n",
       "      <td>0</td>\n",
       "      <td>0</td>\n",
       "      <td>2</td>\n",
       "    </tr>\n",
       "    <tr>\n",
       "      <th>3</th>\n",
       "      <td>2014-q3</td>\n",
       "      <td>albert j. parham playground</td>\n",
       "      <td>3</td>\n",
       "      <td>0</td>\n",
       "      <td>0</td>\n",
       "      <td>3</td>\n",
       "    </tr>\n",
       "    <tr>\n",
       "      <th>4</th>\n",
       "      <td>2014-q3</td>\n",
       "      <td>allen mall one</td>\n",
       "      <td>7</td>\n",
       "      <td>1</td>\n",
       "      <td>0</td>\n",
       "      <td>8</td>\n",
       "    </tr>\n",
       "  </tbody>\n",
       "</table>\n",
       "</div>"
      ],
      "text/plain": [
       "  Created_Time                                      park_name  Street_light  \\\n",
       "0      2014-q3  \"uncle\" vito e. maranzano glendale playground             1   \n",
       "1      2014-q3                  adam clayton powell jr. malls             4   \n",
       "2      2014-q3                    admiral farragut playground             2   \n",
       "3      2014-q3                    albert j. parham playground             3   \n",
       "4      2014-q3                                 allen mall one             7   \n",
       "\n",
       "   Drinking  Drugs  Total  \n",
       "0         0      0      1  \n",
       "1         1      0      5  \n",
       "2         0      0      2  \n",
       "3         0      0      3  \n",
       "4         1      0      8  "
      ]
     },
     "execution_count": 103,
     "metadata": {},
     "output_type": "execute_result"
    }
   ],
   "source": [
    "grouped.head(5)"
   ]
  },
  {
   "cell_type": "code",
   "execution_count": 104,
   "metadata": {
    "collapsed": true,
    "deletable": true,
    "editable": true
   },
   "outputs": [],
   "source": [
    "grouped.to_csv('ComplaintsPerQuartals.csv')"
   ]
  },
  {
   "cell_type": "code",
   "execution_count": 53,
   "metadata": {
    "collapsed": false,
    "deletable": true,
    "editable": true
   },
   "outputs": [],
   "source": [
    "# Obtaining unique complaint types\n",
    "#complaints = requests.map(get_complain_type).distinct().saveAsTextFile('complaints')"
   ]
  }
 ],
 "metadata": {
  "kernelspec": {
   "display_name": "Python [conda root]",
   "language": "python",
   "name": "conda-root-py"
  },
  "language_info": {
   "codemirror_mode": {
    "name": "ipython",
    "version": 2
   },
   "file_extension": ".py",
   "mimetype": "text/x-python",
   "name": "python",
   "nbconvert_exporter": "python",
   "pygments_lexer": "ipython2",
   "version": "2.7.13"
  }
 },
 "nbformat": 4,
 "nbformat_minor": 2
}
